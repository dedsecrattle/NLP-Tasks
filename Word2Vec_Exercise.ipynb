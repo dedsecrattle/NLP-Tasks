{
  "nbformat": 4,
  "nbformat_minor": 0,
  "metadata": {
    "colab": {
      "provenance": [],
      "include_colab_link": true
    },
    "kernelspec": {
      "name": "python3",
      "display_name": "Python 3"
    },
    "language_info": {
      "name": "python"
    },
    "accelerator": "GPU"
  },
  "cells": [
    {
      "cell_type": "markdown",
      "metadata": {
        "id": "view-in-github",
        "colab_type": "text"
      },
      "source": [
        "<a href=\"https://colab.research.google.com/github/dedsecrattle/NLP-Tasks/blob/main/Word2Vec_Exercise.ipynb\" target=\"_parent\"><img src=\"https://colab.research.google.com/assets/colab-badge.svg\" alt=\"Open In Colab\"/></a>"
      ]
    },
    {
      "cell_type": "markdown",
      "source": [
        "\n",
        "\n",
        "# Word2Vec Tutorial"
      ],
      "metadata": {
        "id": "WfuNqI_TJihu"
      }
    },
    {
      "cell_type": "markdown",
      "source": [
        "We're using the [Coronavirus Tweets Dataset](https://www.kaggle.com/datatattle/covid-19-nlp-text-classification) from Kaggle for this tutorial. You can check out my [medium article](https://medium.com/@manansuri/a-dummys-guide-to-word2vec-456444f3c673) that complements this."
      ],
      "metadata": {
        "id": "2U-1OGLXZ1Tj"
      }
    },
    {
      "cell_type": "code",
      "source": [
        "import numpy as np\n",
        "import matplotlib.pyplot as plt\n",
        "import pandas as pd"
      ],
      "metadata": {
        "id": "aQH0x-7cJvKQ"
      },
      "execution_count": null,
      "outputs": []
    },
    {
      "cell_type": "markdown",
      "source": [
        "## Importing the Dataset + Text Preprocessing"
      ],
      "metadata": {
        "id": "uq0ZOCg2Job0"
      }
    },
    {
      "cell_type": "code",
      "source": [
        "dataset = pd.read_csv('Corona_NLP_train.csv', encoding='latin1')"
      ],
      "metadata": {
        "id": "P4vikPdgJtv0"
      },
      "execution_count": null,
      "outputs": []
    },
    {
      "cell_type": "markdown",
      "source": [
        "Very basic text preproccessing by removing punctuations, numbers. We have also cleaned the data by removing characters including and after 'https' in the text."
      ],
      "metadata": {
        "id": "tzxNFBBfafeS"
      }
    },
    {
      "cell_type": "code",
      "source": [
        "import re\n",
        "texts=[]\n",
        "for i in range(0,len(dataset)):\n",
        "  text = re.sub('[^a-zA-Z]' , ' ', dataset['OriginalTweet'][i])\n",
        "  text = text.lower()\n",
        "  text = text.split()\n",
        "  x = len(text) if text.count('https') ==0  else text.index('https')\n",
        "  text = text[: x ]\n",
        "  text = [t for t in text if not t=='https']\n",
        "  text = ' '.join(text)\n",
        "  texts.append(text)\n"
      ],
      "metadata": {
        "id": "4TAhx3inJ_O4"
      },
      "execution_count": null,
      "outputs": []
    },
    {
      "cell_type": "markdown",
      "source": [
        "Size of the dataset."
      ],
      "metadata": {
        "id": "xkrW9cctbFU6"
      }
    },
    {
      "cell_type": "code",
      "source": [
        "print(len(texts))"
      ],
      "metadata": {
        "colab": {
          "base_uri": "https://localhost:8080/"
        },
        "id": "VY91SigRK_-z",
        "outputId": "28acea99-206f-488c-ad6e-8899f30ef496"
      },
      "execution_count": null,
      "outputs": [
        {
          "output_type": "stream",
          "name": "stdout",
          "text": [
            "41157\n"
          ]
        }
      ]
    },
    {
      "cell_type": "markdown",
      "source": [
        "## Training the word2vec model"
      ],
      "metadata": {
        "id": "-UpeRPOtbRA4"
      }
    },
    {
      "cell_type": "code",
      "source": [
        "from gensim.models import Word2Vec\n"
      ],
      "metadata": {
        "id": "x6G_EOnzLrNr"
      },
      "execution_count": null,
      "outputs": []
    },
    {
      "cell_type": "code",
      "source": [
        "sentences = [line.split() for line in texts]\n",
        "\n",
        "w2v = Word2Vec(sentences, vector_size=100, window=7, workers=4, epochs=10, min_count=5)"
      ],
      "metadata": {
        "id": "TOEQj-VlLsEG"
      },
      "execution_count": null,
      "outputs": []
    },
    {
      "cell_type": "code",
      "source": [
        "print(sentences[20:25])"
      ],
      "metadata": {
        "colab": {
          "base_uri": "https://localhost:8080/"
        },
        "id": "yBEn_UrmxdaW",
        "outputId": "e1de0b00-aa69-4817-8941-2d8c09f2fa87"
      },
      "execution_count": null,
      "outputs": [
        {
          "output_type": "stream",
          "name": "stdout",
          "text": [
            "[['with', 'nations', 'inficted', 'with', 'covid', 'the', 'world', 'must', 'not', 'play', 'fair', 'with', 'china', 'goverments', 'must', 'demand', 'china', 'adopts', 'new', 'guilde', 'lines', 'on', 'food', 'safty', 'the', 'chinese', 'goverment', 'is', 'guilty', 'of', 'being', 'irosponcible', 'with', 'life', 'on', 'a', 'global', 'scale'], [], ['we', 'have', 'amazing', 'cheap', 'deals', 'for', 'the', 'covid', 'going', 'on', 'to', 'help', 'you', 'trials', 'monthly', 'yearly', 'and', 'resonable', 'prices', 'subscriptions', 'just', 'dm', 'us', 'bestiptv', 'iptv', 'service', 'iptv', 'iptvdeals', 'cheap', 'iptv', 'football', 'hd', 'movies', 'adult', 'cinema', 'hotmovies', 'iptvnew', 'iptv', 'adult'], ['we', 'have', 'amazing', 'cheap', 'deals', 'for', 'the', 'covid', 'going', 'on', 'to', 'help', 'you', 'trials', 'monthly', 'yearly', 'and', 'resonable', 'prices', 'subscriptions', 'just', 'dm', 'us', 'bestiptv', 'iptv', 'service', 'iptv', 'iptvdeals', 'cheap', 'iptv', 'football', 'hd', 'movies', 'adult', 'cinema', 'hotmovies', 'iptv', 'iptvlinks', 'movies'], ['downingstreet', 'grantshapps', 'what', 'is', 'being', 'done', 'to', 'ensure', 'food', 'and', 'other', 'essential', 'products', 'are', 'being', 're', 'stocked', 'at', 'supermarkets', 'and', 'panic', 'buying', 'actively', 'discouraged', 'it', 'cannot', 'be', 'left', 'to', 'checkout', 'staff', 'to', 'police', 'the', 'actions', 'of', 'the', 'selfish', 'and', 'profiteer']]\n"
          ]
        }
      ]
    },
    {
      "cell_type": "markdown",
      "source": [
        "## Working with word2vec"
      ],
      "metadata": {
        "id": "5RLH55l3bo2U"
      }
    },
    {
      "cell_type": "markdown",
      "source": [
        "Finding the vocabulary of the model can be useful in several general applications, and in this case, provides us with a list of words we can try and use other functions."
      ],
      "metadata": {
        "id": "dJMH7c2DbxaT"
      }
    },
    {
      "cell_type": "code",
      "source": [
        "words = list(w2v.wv.key_to_index) # Replace w2v.wv.vocab with w2v.wv.key_to_index to get a list of words in the vocabulary."
      ],
      "metadata": {
        "id": "Hh3yF2HgMeyq"
      },
      "execution_count": null,
      "outputs": []
    },
    {
      "source": [
        "words = list(w2v.wv.key_to_index) # Replace w2v.wv.vocab with w2v.wv.key_to_index to get a list of words in the vocabulary."
      ],
      "cell_type": "code",
      "metadata": {
        "id": "ff-G16wBrdcZ"
      },
      "execution_count": null,
      "outputs": []
    },
    {
      "cell_type": "code",
      "source": [
        "print(words)"
      ],
      "metadata": {
        "id": "eYGG6ySCMir4",
        "outputId": "507cd5c8-eb90-4106-f82e-0979f74f414a",
        "colab": {
          "base_uri": "https://localhost:8080/"
        }
      },
      "execution_count": null,
      "outputs": [
        {
          "output_type": "stream",
          "name": "stdout",
          "text": [
            "['the', 'to', 'and', 'of', 'covid', 'a', 'in', 'coronavirus', 'for', 'is', 'are', 'i', 'you', 'on', 's', 'this', 'prices', 'at', 'it', 'food', 'supermarket', 'we', 'store', 'that', 'with', 'grocery', 'have', 'as', 'be', 'people', 't', 'from', 'amp', 'all', 'can', 'consumer', 'your', 'not', 'will', 'they', 'my', 'our', 'out', 'up', 'has', 'or', 'by', 'more', 'but', 'shopping', 'if', 'online', 'how', 'their', 'during', 'pandemic', 'so', 'now', 'no', 'what', 'get', 'about', 'who', 'need', 'workers', 'panic', 'just', 'there', 'us', 'do', 'like', 'time', 'sanitizer', 'home', 'was', 'an', 'demand', 'go', 'when', 'some', 'help', 'hand', 'stock', 'don', 're', 'going', 'one', 'me', 'm', 'here', 'due', 'buying', 'been', 'oil', 'new', 'crisis', 'please', 'work', 'them', 'after', 'other', 'toilet', 'because', 'only', 'these', 'should', 'toiletpaper', 'than', 'paper', 'today', 'over', 'stay', 'local', 'retail', 'keep', 'buy', 'stores', 'many', 'shelves', 'still', 'being', 'make', 'delivery', 'those', 'see', 'down', 'day', 'know', 'why', 'take', 'lockdown', 'supply', 'outbreak', 'would', 'its', 'stop', 'uk', 'staff', 'into', 've', 'social', 'virus', 'everyone', 'could', 'any', 'had', 'even', 'masks', 'price', 'while', 'health', 'working', 'also', 'essential', 'week', 'world', 'market', 'think', 'good', 'business', 'amid', 'spread', 'he', 'use', 'shop', 'customers', 'were', 'safe', 'most', 'thank', 'way', 'am', 'government', 'off', 'employees', 'which', 'socialdistancing', 'right', 'impact', 'every', 'products', 'back', 'much', 'before', 'first', 'news', 'may', 'items', 'doing', 'supplies', 'times', 'last', 'mask', 'free', 'where', 'support', 'read', 'well', 'days', 'high', 'face', 'low', 'want', 'find', 'got', 'around', 'coronacrisis', 'then', 'global', 'distancing', 'quarantine', 'through', 'said', 'let', 'weeks', 'supermarkets', 'u', 'gas', 'public', 'risk', 'corona', 'empty', 'too', 'open', 'says', 'country', 'getting', 'really', 'money', 'went', 'very', 'since', 'economy', 'companies', 'she', 'businesses', 'consumers', 'long', 'care', 'order', 'say', 'two', 'making', 'things', 'next', 'her', 'enough', 'line', 'great', 'his', 'look', 'others', 'full', 'll', 'available', 'march', 'hands', 'service', 'check', 'pay', 'family', 'via', 'hours', 'services', 'shops', 'gloves', 'taking', 'chain', 'against', 'anyone', 'medical', 'come', 'put', 'year', 'across', 'response', 'industry', 'must', 'china', 'trump', 'd', 'house', 'increase', 'life', 'state', 'few', 'needs', 'everything', 'hoarding', 'goods', 'markets', 'fight', 'closed', 'self', 'protect', 'big', 'trying', 'without', 'same', 'etc', 'best', 'report', 'groceries', 'emergency', 'never', 'increased', 'already', 'economic', 'community', 'amazon', 'thing', 'vulnerable', 'sure', 'elderly', 'close', 'per', 'drivers', 'give', 'live', 'post', 'thanks', 'small', 'made', 'place', 'did', 'each', 'someone', 'real', 'scams', 'india', 'call', 'sales', 'seen', 'having', 'better', 'such', 'situation', 'continue', 'shoppers', 'banks', 'latest', 'behavior', 'using', 'does', 'lot', 'job', 'hard', 'another', 'person', 'looking', 'cases', 'hope', 'away', 'bank', 'morning', 'healthcare', 'part', 'share', 'hit', 'avoid', 'important', 'water', 'together', 'coming', 'selling', 'gt', 'left', 'under', 'data', 'able', 'n', 'own', 'production', 'front', 'coronaviruspandemic', 'retailers', 'daily', 'drop', 'tesco', 'nhs', 'learn', 'protection', 'stayhome', 'change', 'run', 'information', 'normal', 'spending', 'end', 'company', 'ever', 'current', 'list', 'until', 'key', 'essentials', 'less', 'measures', 'won', 'else', 'positive', 'again', 'start', 'might', 'least', 'coronavirusoutbreak', 'pm', 'outside', 'feel', 'safety', 'financial', 'related', 'milk', 'leave', 'done', 'wash', 'remember', 'man', 'told', 'police', 'jobs', 'little', 'thought', 'seeing', 'nothing', 'years', 'tips', 'months', 'w', 'stayathome', 'shortage', 'wearing', 'cut', 'lives', 'something', 'stayhomesavelives', 'old', 'meet', 'month', 'yet', 'fall', 'farmers', 'restaurants', 'families', 'keeping', 'helping', 'contact', 'sick', 'video', 'april', 'worker', 'including', 'e', 'doesn', 'access', 'reports', 'soap', 'update', 'doctors', 'isolation', 'travel', 'roll', 'chains', 'wear', 'panicbuying', 'running', 'isn', 'rise', 'stophoarding', 'alcohol', 'lower', 'distance', 'americans', 'possible', 'higher', 'try', 'bad', 'used', 'always', 'city', 'non', 'instead', 'lines', 'needed', 'b', 'media', 'set', 'found', 'nurses', 'based', 'yourself', 'number', 'soon', 'provide', 'likely', 'hospital', 'stocked', 'visit', 'major', 'prevent', 'bought', 'changes', 'pharmacy', 'shortages', 'watch', 'once', 'follow', 'offering', 'drive', 'didn', 'love', 'anything', 'advice', 'tp', 'relief', 'testing', 'k', 'putting', 'govt', 'sanitizers', 'hour', 'produce', 'gouging', 'selfish', 'yesterday', 'between', 'friends', 'far', 'walmart', 'especially', 'orders', 'coronavirusupdate', 'advantage', 'affected', 'almost', 'gone', 'aren', 'deal', 'healthy', 'states', 'special', 'ensure', 'car', 'million', 'brands', 'meat', 'paid', 'whole', 'th', 'join', 'understand', 'customer', 'saw', 'top', 'sell', 'result', 'eat', 'system', 'russia', 'following', 'reduce', 'fear', 'kids', 'staying', 'control', 'realdonaldtrump', 'credit', 'show', 'area', 'test', 'means', 'website', 'fresh', 'actually', 'tested', 'stoppanicbuying', 'remain', 'war', 'article', 'surge', 'bread', 'heroes', 'countries', 'save', 'die', 'case', 'shut', 'y', 'tell', 'below', 'story', 'info', 'despite', 'wait', 'canada', 'works', 'caused', 'rolls', 'sold', 'stuff', 'point', 'cannot', 'ask', 'announced', 'huge', 'australia', 'america', 'extra', 'woman', 'cash', 'kind', 'saying', 'cost', 'waiting', 'trip', 'maybe', 'themselves', 'critical', 'early', 'moment', 'three', 'period', 'given', 'italy', 'asked', 'yes', 'limit', 'restaurant', 'security', 'difficult', 'changing', 'c', 'facing', 'ago', 'idea', 'struggling', 'queue', 'shit', 'clean', 'product', 'eggs', 'employee', 'drug', 'become', 'cleaning', 'short', 'staysafe', 'personal', 'fuel', 'taken', 'both', 'him', 'basic', 'increasing', 'mean', 'bring', 'ways', 'pick', 'national', 'spreading', 'scammers', 'lost', 'seriously', 'nation', 'different', 'fast', 'crazy', 'currently', 'tomorrow', 'sector', 'consider', 'shift', 'inside', 'president', 'started', 'purchase', 'experts', 'term', 'survive', 'sainsburys', 'restrictions', 'changed', 'trends', 'research', 'energy', 'cause', 'quarantinelife', 'stockpiling', 'closing', 'gold', 'ppl', 'future', 'giving', 'buyers', 'guys', 'deliveries', 'offer', 'further', 'act', 'allowed', 'stocks', 'reduced', 'issues', 'group', 'large', 'team', 'behaviour', 'asda', 'shows', 'american', 'action', 'sign', 'makes', 'recent', 'hey', 'donate', 'fears', 'providing', 'office', 'plan', 'rs', 'school', 'r', 'recession', 'confidence', 'ppe', 'trade', 'wrong', 'asking', 'london', 'fucking', 'starting', 'closures', 'alert', 'concerns', 'plenty', 'marketing', 'folks', 'strong', 'st', 'law', 'usa', 'walk', 'problem', 'general', 'direct', 'crude', 'wipes', 'falling', 'thinking', 'near', 'pasta', 'goes', 'ready', 'gonna', 'worried', 'continues', 'ones', 'worse', 'past', 'household', 'came', 'gov', 'living', 'link', 'limited', 'according', 'raise', 'bit', 'chinese', 'longer', 'hear', 'afford', 'door', 'deliver', 'though', 'questions', 'half', 'fighting', 'believe', 'probably', 'behind', 'god', 'expected', 'saudi', 'resources', 'ceo', 'haven', 'single', 'borisjohnson', 'fuck', 'email', 'expect', 'died', 'equipment', 'night', 'federal', 'happy', 'citizens', 'allow', 'necessary', 'poor', 'monday', 'send', 'friend', 'looks', 'delivered', 'updates', 'members', 'hospitals', 'bottle', 'income', 'insights', 'side', 'experience', 'truck', 'p', 'parents', 'ok', 'nice', 'rules', 'frontline', 'ecommerce', 'county', 'seems', 'efforts', 'lots', 'rice', 'message', 'pack', 'places', 'forced', 'foods', 'anxiety', 'tests', 'co', 'light', 'sale', 'coronavirusuk', 'hoard', 'called', 'plans', 'symptoms', 'question', 'reason', 'society', 'easter', 'rising', 'potential', 'unprecedented', 'effects', 'blog', 'issue', 'seniors', 'digital', 'kill', 'gets', 'comes', 'apart', 'human', 'serious', 'survey', 'calls', 'ebay', 'slots', 'took', 'south', 'habits', 'however', 'listen', 'amount', 'biggest', 'opening', 'phone', 'responders', 'finally', 'california', 'interesting', 'inflated', 'street', 'usual', 'hygiene', 'massive', 'move', 'death', 'hiking', 'effect', 'bags', 'nurse', 'worth', 'infected', 'click', 'beginning', 'wake', 'residents', 'morrisons', 'talk', 'collapse', 'level', 'driving', 'rather', 'several', 'handsanitizer', 'coughing', 'temporarily', 'disease', 'growing', 'washing', 'distribution', 'clear', 'policy', 'sentiment', 'donations', 'dear', 'homes', 'bill', 'true', 'debt', 'dont', 'shelf', 'cure', 'pretty', 'forget', 'rent', 'record', 'communities', 'x', 'ftc', 'cheap', 'oh', 'amazing', 'happen', 'touch', 'rate', 'force', 'hold', 'children', 'details', 'opec', 'couple', 'breaking', 'hoarders', 'among', 'myself', 'profit', 'unemployment', 'growth', 'step', 'hi', 'spend', 'calling', 'insurance', 'feed', 'showing', 'easy', 'guess', 'dr', 'shame', 'fake', 'rt', 'toiletpapercrisis', 'minister', 'vegetables', 'tonight', 'commerce', 'profiteering', 'impacted', 'later', 'regarding', 'f', 'costs', 'giant', 'stand', 'o', 'calm', 'power', 'second', 'donating', 'sir', 'fruit', 'commodities', 'turn', 'g', 'challenges', 'quick', 'package', 'simple', 'priority', 'meals', 'deaths', 'mind', 'department', 'talking', 'notice', 'benefits', 'wine', 'four', 'thousands', 'dropped', 'worry', 'card', 'note', 'imagine', 'quickly', 'bulk', 'eating', 'clerks', 'head', 'impacts', 'takes', 'worst', 'weekly', 'paying', 'united', 'webinar', 'ahead', 'along', 'plus', 'protective', 'stimulus', 'certain', 'housing', 'age', 'scam', 'producers', 'date', 'mass', 'groups', 'billion', 'millions', 'aisles', 'rest', 'fact', 'sense', 'absolutely', 'toiletpaperpanic', 'either', 'whether', 'within', 'petrol', 'areas', 'lock', 'europe', 'increases', 'shares', 'steps', 'ridiculous', 'aisle', 'baby', 'wanted', 'practice', 'bare', 'couldn', 'panicbuyinguk', 'standing', 'fed', 'wonder', 'town', 'offers', 'regular', 'often', 'cough', 'decline', 'air', 'warning', 'patients', 'internet', 'telling', 'amidst', 'checkout', 'station', 'created', 'walking', 'slow', 'epidemic', 'wants', 'rights', 'heard', 'include', 'lead', 'stocking', 'causing', 'raising', 'app', 'waste', 'total', 'maintain', 'prepare', 'pressure', 'older', 'weekend', 'appreciate', 'thursday', 'lady', 'opportunity', 'respect', 'pharmacies', 'isolate', 'exposed', 'chance', 'fda', 'arabia', 'value', 'create', 'space', 'operations', 'busy', 'common', 'mom', 'temporary', 'facebook', 'lol', 'till', 'white', 'levels', 'enter', 'waitrose', 'unless', 'decided', 'add', 'black', 'completely', 'shipping', 'property', 'unable', 'narendramodi', 'wish', 'effective', 'break', 'senior', 'chicken', 'minutes', 'lack', 'governments', 'hunger', 'kits', 'happening', 'commodity', 'deserve', 'options', 'literally', 'fraud', 'scared', 'assistance', 'lowest', 'felt', 'york', 'limits', 'uncertainty', 'grateful', 'super', 'cashiers', 'sent', 'volunteers', 'hike', 'feet', 'trading', 'largest', 'funny', 'isolating', 'private', 'greater', 'wife', 'coronaviruslockdown', 'box', 'owners', 'sanitiser', 'tax', 'friday', 'focus', 'double', 'affect', 'cuts', 'queues', 'competition', 'guy', 'novel', 'spreads', 'agree', 'cashier', 'brand', 'aware', 'except', 'charge', 'entire', 'bag', 'guidelines', 'alone', 'guidance', 'feeling', 'commission', 'fund', 'bottles', 'asian', 'happens', 'reported', 'doctor', 'everyday', 'middle', 'target', 'return', 'bc', 'confirmed', 'reach', 'trips', 'transport', 'nigeria', 'schools', 'nearly', 'delivering', 'profits', 'impacting', 'fully', 'shifts', 'answer', 'watching', 'husband', 'driven', 'dealing', 'governor', 'play', 'tech', 'greedy', 'sellers', 'example', 'matter', 'worked', 'concerned', 'supporting', 'finding', 'mother', 'beyond', 'updated', 'recovery', 'everywhere', 'apparently', 'sad', 'fair', 'wage', 'significant', 'traffic', 'numbers', 'consumption', 'dairy', 'purchases', 'reality', 'sunday', 'rates', 'recently', 'suppliers', 'manufacturing', 'threat', 'industries', 'worldwide', 'book', 'piece', 'minimum', 'member', 'infection', 'tv', 'stupid', 'leading', 'item', 'leaving', 'led', 'coronavirususa', 'cancelled', 'bus', 'activity', 'inflation', 'officials', 'british', 'serve', 'complete', 'dying', 'nyc', 'boost', 'prepared', 'flour', 'forward', 'damn', 'shutdown', 'pass', 'ordered', 'pre', 'q', 'stress', 'received', 'pantries', 'allowing', 'fun', 'immediately', 'study', 'leaders', 'ongoing', 'sa', 'wipe', 'output', 'provided', 'estate', 'doors', 'cnn', 'h', 'park', 'texas', 'teachers', 'eu', 'additional', 'dad', 'site', 'late', 'payment', 'ventilators', 'florida', 'receive', 'combat', 'solution', 'catch', 'fell', 'interest', 'immune', 'game', 'firms', 'mobile', 'moving', 'cover', 'treat', 'average', 'beer', 'road', 'producing', 'sorry', 'account', 'sharing', 'africa', 'behaviors', 'meeting', 'creating', 'affairs', 'problems', 'ordering', 'treatment', 'toiletpaperapocalypse', 'disabled', 'payments', 'pmoindia', 'perfect', 'medicine', 'quality', 'veg', 'pickup', 'agriculture', 'precautions', 'farm', 'corporate', 'capacity', 'warehouse', 'crash', 'tried', 'reporting', 'discuss', 'ass', 'drugs', 'cope', 'mum', 'page', 'affecting', 'management', 'dog', 'source', 'hiring', 'experiencing', 'sending', 'address', 'six', 'mail', 'risking', 'negative', 'hell', 'clients', 'view', 'brought', 'ml', 'disinfectant', 'towards', 'physical', 'everybody', 'analysis', 'toronto', 'conditions', 'australian', 'pls', 'fine', 'women', 'fill', 'necessities', 'nobody', 'dm', 'investors', 'benefit', 'socialdistanacing', 'gift', 'claims', 'traders', 'effort', 'aid', 'idiots', 'kroger', 'planning', 'carry', 'bills', 'slot', 'humanity', 'name', 'costco', 'main', 'supposed', 'course', 'losing', 'manage', 'smart', 'explains', 'west', 'international', 'charging', 'loo', 'zero', 'students', 'throughout', 'happened', 'wondering', 'trust', 'emails', 'professionals', 'lockdowns', 'surrounding', 'young', 'guide', 'feels', 'heart', 'manufacturers', 'touching', 'center', 'pantry', 'queuing', 'clothes', 'ft', 'pet', 'cart', 'vs', 'spent', 'spain', 'five', 'sectors', 'series', 'platform', 'attorney', 'event', 'wouldn', 'manager', 'piersmorgan', 'earlier', 'stopstockpiling', 'virtual', 'gallon', 'son', 'wtf', 'required', 'strategy', 'percent', 'launched', 'seem', 'official', 'north', 'cars', 'limiting', 'men', 'bringing', 'thread', 'dropping', 'wednesday', 'personnel', 'council', 'stopped', 'shock', 'crowded', 'shouldn', 'owner', 'population', 'meanwhile', 'coronacrisisuk', 'press', 'retailer', 'indian', 'photo', 'airlines', 'cleaners', 'child', 'choice', 'panicshopping', 'vital', 'challenge', 'pricegouging', 'hits', 'purchasing', 'expert', 'cant', 'oz', 'tuesday', 'request', 'vaccine', 'spike', 'arrested', 'affordable', 'anywhere', 'spot', 'shout', 'plastic', 'normally', 'l', 'grow', 'electricity', 'signs', 'shelter', 'hot', 'helps', 'im', 'sainsbury', 'dollar', 'hello', 'register', 'survival', 'turning', 'packages', 'charged', 'whilst', 'above', 'movement', 'respond', 'twitter', 'gives', 'sites', 'locations', 'word', 'central', 'crowds', 'deep', 'form', 'la', 'process', 'reminder', 'class', 'hire', 'frozen', 'covidiots', 'coles', 'flu', 'lysol', 'difference', 'chaos', 'lose', 'finance', 'protecting', 'coffee', 'puts', 'laid', 'picture', 'staples', 'surgical', 'neighbors', 'gave', 'practices', 'perhaps', 'playing', 'disgusting', 'totally', 'uncertain', 'checks', 'helpful', 'domestic', 'cooking', 'daughter', 'providers', 'definitely', 'looked', 'exposure', 'option', 'individuals', 'germs', 'saturday', 'pakistan', 'tip', 'battle', 'parking', 'round', 'sweep', 'loss', 'stockpile', 'stuck', 'google', 'trend', 'tissue', 'humans', 'hungry', 'streets', 'concern', 'packed', 'spring', 'approved', 'saving', 'caught', 'includes', 'thoughts', 'cities', 'sees', 'cards', 'ticket', 'cdc', 'humor', 'wuhan', 'rationing', 'risks', 'protections', 'directly', 'tells', 'safely', 'curbside', 'pricing', 'points', 'donated', 'remains', 'stories', 'hiked', 'advertising', 'losses', 'asia', 'issued', 'germany', 'complaints', 'natural', 'events', 'responsible', 'meal', 'catching', 'scary', 'joke', 'hundreds', 'offered', 'handle', 'rich', 'trolley', 'loans', 'restock', 'nd', 'rush', 'centre', 'washyourhands', 'tough', 'wasn', 'quite', 'staysafestayhome', 'flattenthecurve', 'environment', 'beware', 'attention', 'holiday', 'ny', 'ban', 'results', 'extremely', 'investment', 'logistics', 'thru', 'floor', 'wholesale', 'sanitize', 'beans', 'spray', 'proud', 'technology', 'funds', 'talks', 'eye', 'partner', 'shutting', 'capital', 'coughed', 'responding', 'onlineshopping', 'simply', 'ag', 'hasn', 'woolworths', 'publix', 'mostly', 'refund', 'grab', 'petition', 'actions', 'kenya', 'whatever', 'decision', 'wow', 'none', 'room', 'systems', 'usually', 'peak', 'supplychain', 'canadian', 'sports', 'struggle', 'medicines', 'scientists', 'causes', 'clearly', 'okay', 'basket', 'silver', 'ur', 'mouth', 'suffering', 'ontario', 'added', 'chicago', 'dangerous', 'holding', 'search', 'mall', 'agreed', 'quarantined', 'prime', 'selfisolation', 'enjoy', 'apply', 'pubs', 'beef', 'au', 'ration', 'britain', 'knew', 'barrel', 'encourage', 'content', 'rapidly', 'apps', 'expensive', 'solutions', 'auspol', 'european', 'ill', 'challenging', 'miss', 'episode', 'expectations', 'type', 'truly', 'model', 'reducing', 'flight', 'february', 'apocalypse', 'wide', 'anti', 'outlook', 'greed', 'patterns', 'track', 'considering', 'building', 'immediate', 'revenue', 'towels', 'began', 'glad', 'regularly', 'exercise', 'apple', 'claim', 'heading', 'discount', 'managing', 'posted', 'organizations', 'nose', 'leadership', 'words', 'sanitizing', 'resource', 'otherwise', 'facilities', 'disaster', 'faces', 'managed', 'particularly', 'announcement', 'bars', 'charity', 'ground', 'yeah', 'hazard', 'unfortunately', 'mortgage', 'canned', 'contain', 'released', 'turned', 'illegal', 'considered', 'provides', 'begin', 'weird', 'pray', 'letter', 'cents', 'statement', 'highly', 'joe', 'handling', 'knows', 'agencies', 'climate', 'shifting', 'raised', 'storm', 'ends', 'avoiding', 'fixed', 'surely', 'capitalism', 'file', 'tweet', 'program', 'season', 'loved', 'com', 'chief', 'fees', 'proper', 'tracking', 'opened', 'piling', 'kept', 'starts', 'download', 'spoke', 'patient', 'kindly', 'stations', 'severe', 'boris', 'unnecessary', 'disruption', 'task', 'ministry', 'visiting', 'weather', 'de', 'wages', 'carts', 'significantly', 'warned', 'continued', 'france', 'keeps', 'dry', 'exorbitant', 'executive', 'becoming', 'fellow', 'donation', 'v', 'rd', 'dedicated', 'january', 'absolute', 'cold', 'bottom', 'bbc', 'killing', 'vaccines', 'popular', 'bay', 'authorities', 'sky', 'sister', 'packs', 'cannabis', 'deals', 'awareness', 'win', 'network', 'administration', 'loan', 'education', 'beat', 'availability', 'passed', 'gel', 'rely', 'multiple', 'ply', 'surfaces', 'driver', 'pa', 'ship', 'learning', 'surging', 'fruits', 'adapt', 'sharp', 'safer', 'hearing', 'boxes', 'helped', 'anyway', 'warns', 'impossible', 'useful', 'text', 'afraid', 'eyes', 'reading', 'walked', 'friendly', 'flights', 'majority', 'urgent', 'rule', 'actual', 'commercial', 'measure', 'coronapocolypse', 'photos', 'runs', 'canadians', 'push', 'games', 'forcing', 'washington', 'corner', 'minute', 'deadly', 'trolleys', 'podcast', 'remote', 'music', 'fish', 'chinesevirus', 'freeze', 'green', 'cool', 'writes', 'curfew', 'director', 'indoors', 'plant', 'prevention', 'east', 'postal', 'animal', 'role', 'shared', 'diy', 'section', 'noticed', 'student', 'possibly', 'careful', 'thankyou', 'stockup', 'ya', 'aldi', 'closure', 'visits', 'ads', 'ocado', 'kitchen', 'san', 'speak', 'homemade', 'pictures', 'earth', 'truckers', 'videos', 'trader', 'vegetable', 'shall', 'jump', 'auto', 'japan', 'pushing', 'cutting', 'civil', 'picking', 'dead', 'welcome', 'bbcnews', 'mar', 'quaratinelife', 'kills', 'mine', 'red', 'movie', 'kit', 'nationwide', 'curb', 'grocers', 'reasons', 'mad', 'laws', 'authority', 'thankful', 'plunge', 'congress', 'fire', 'wave', 'drops', 'hopefully', 'collect', 'regulations', 'contracting', 'policies', 'luxury', 'dies', 'hospitality', 'history', 'bekind', 'insight', 'doubled', 'build', 'gasoline', 'utility', 'forever', 'johnson', 'nj', 'evidence', 'michigan', 'opportunities', 'bonus', 'drink', 'blame', 'viruses', 'clerk', 'summer', 'union', 'straight', 'beauty', 'protected', 'counter', 'practicing', 'paracetamol', 'extreme', 'mr', 'continuing', 'dc', 'sudden', 'sharply', 'gop', 'various', 'curve', 'partners', 'focused', 'tackle', 'index', 'stable', 'delayed', 'ireland', 'lockdownuk', 'extended', 'trouble', 'reasonable', 'cent', 'easily', 'ups', 'urge', 'budget', 'sanitation', 'shelterinplace', 'rural', 'informed', 'interview', 'developed', 'pub', 'stepping', 'executives', 'fox', 'cancel', 'laugh', 'workforce', 'range', 'sanitisers', 'rapid', 'suffer', 'entering', 'slowdown', 'firm', 'failed', 'gear', 'pop', 'independent', 'hul', 'party', 'church', 'toward', 'sitting', 'operators', 'distribute', 'answers', 'transmission', 'groceryshopping', 'alive', 'toll', 'held', 'hotels', 'body', 'potentially', 'posting', 'links', 'kg', 'adding', 'brother', 'nz', 'brilliant', 'art', 'lt', 'inventory', 'bar', 'liquor', 'interested', 'boss', 'acting', 'shopper', 'serving', 'wanna', 'foreign', 'madness', 'fashion', 'isolated', 'teams', 'opinion', 'abc', 'cov', 'suddenly', 'although', 'exactly', 'filling', 'closes', 'warn', 'army', 'complaint', 'ca', 'compared', 'excited', 'excessive', 'officers', 'singapore', 'enforcement', 'malaysia', 'aldiuk', 'homeless', 'asset', 'netflix', 'convenience', 'colleagues', 'funding', 'announces', 'iran', 'evening', 'hopes', 'midst', 'release', 'coping', 'filled', 'star', 'university', 'killed', 'reduction', 'highest', 'choose', 'region', 'entertainment', 'specific', 'egg', 'ease', 'cat', 'reveals', 'whose', 'desperate', 'responses', 'falls', 'bloody', 'tears', 'allegedly', 'ashamed', 'charities', 'location', 'club', 'similar', 'sometimes', 'activities', 'youtube', 'ad', 'discusses', 'third', 'becomes', 'dramatic', 'creative', 'bet', 'visited', 'coronaviruschallenge', 'mark', 'bored', 'hero', 'coronavirusindia', 'terms', 'marketers', 'college', 'hub', 'explain', 'legal', 'plummeting', 'disinfecting', 'guns', 'covering', 'hair', 'disruptions', 'distillery', 'cheaper', 'knowing', 'globally', 'contract', 'faster', 'slash', 'turns', 'professor', 'realize', 'urges', 'ain', 'hr', 'tourism', 'approach', 'adults', 'cheese', 'basically', 'learned', 'soar', 'employment', 'awesome', 'gratitude', 'published', 'era', 'ice', 'programs', 'malls', 'min', 'exploiting', 'economies', 'platforms', 'hate', 'session', 'comfort', 'crowd', 'forces', 'labor', 'attitudes', 'plummet', 'finds', 'pump', 'sort', 'corn', 'gathering', 'taxes', 'rental', 'exports', 'households', 'skyrocketing', 'pharmacists', 'disinfect', 'putin', 'checking', 'bleach', 'suggest', 'corvid', 'excuse', 'basis', 'carrying', 'smaller', 'covidiot', 'parks', 'transportation', 'inflating', 'scare', 'code', 'plunging', 'futures', 'russian', 'uses', 'nations', 'channel', 'operating', 'charges', 'sugar', 'drives', 'manchester', 'collection', 'cdcgov', 'stayhomechallenge', 'panicking', 'assist', 'guard', 'demands', 'alternative', 'skyrocket', 'dramatically', 'purchased', 'managers', 'mission', 'monthly', 'dinner', 'hoping', 'political', 'uber', 'warehouses', 'retweet', 'phishing', 'priorities', 'lows', 'extortionate', 'buys', 'easier', 'itself', 'potatoes', 'refusing', 'finances', 'announce', 'cook', 'vote', 'ability', 'urged', 'gain', 'volunteer', 'seconds', 'websites', 'economics', 'coverage', 'known', 'association', 'slump', 'letting', 'carers', 'window', 'damage', 'lets', 'switch', 'afternoon', 'harder', 'los', 'mid', 'preparing', 'parts', 'heb', 'existing', 'king', 'german', 'board', 'frequently', 'fewer', 'bitcoin', 'movies', 'touched', 'navigate', 'stopthespread', 'facemask', 'treatments', 'diesel', 'agricultural', 'selfishness', 'contest', 'devices', 'dollars', 'saudiarabia', 'throw', 'ethanol', 'corporations', 'launches', 'litre', 'anxious', 'understanding', 'stripped', 'idiot', 'accounts', 'figure', 'science', 'lately', 'categories', 'stayhomestaysafe', 'basics', 'convid', 'ceos', 'importance', 'honestly', 'briefing', 'surprise', 'cos', 'smile', 'ingredients', 'nofood', 'trending', 'condition', 'military', 'books', 'placed', 'un', 'present', 'picked', 'circumstances', 'moved', 'oott', 'cross', 'insane', 'mckinsey', 'agency', 'vendors', 'implications', 'distilleries', 'recover', 'trillion', 'arrived', 'lucky', 'export', 'listed', 'skynews', 'analysts', 'carriers', 'lagos', 'potus', 'usd', 'depression', 'plz', 'monitor', 'standards', 'soup', 'responsibility', 'realestate', 'cattle', 'jack', 'wrote', 'uklockdown', 'stopping', 'border', 'analyst', 'false', 'plants', 'mode', 'gotta', 'factories', 'turkey', 'maga', 'banking', 'coronavirusupdates', 'missing', 'animals', 'covered', 'surprised', 'bn', 'campaign', 'fallout', 'scale', 'reaching', 'monitoring', 'kindness', 'globe', 'anymore', 'thinks', 'gun', 'amounts', 'houses', 'ghana', 'ran', 'suspend', 'paisley', 'neighborhood', 'crying', 'icymi', 'rose', 'messages', 'lining', 'fridge', 'infections', 'crucial', 'remind', 'position', 'bog', 'broke', 'bacteria', 'metro', 'taste', 'cbc', 'wheat', 'bankers', 'economist', 'psa', 'hoax', 'shutdowns', 'strict', 'edition', 'appreciated', 'entry', 'nygovcuomo', 'perspective', 'gdp', 'mention', 'table', 'committed', 'decisions', 'garden', 'makers', 'morons', 'coughs', 'individual', 'viral', 'pizza', 'facemasks', 'nor', 'dump', 'wiped', 'initiative', 'maintaining', 'willing', 'founder', 'introduced', 'takeout', 'favorite', 'snap', 'privacy', 'innovation', 'stops', 'laundry', 'baskets', 'safeway', 'scarce', 'holidays', 'packaging', 'fix', 'hrs', 'memes', 'meme', 'shown', 'booming', 'veggies', 'appears', 'hurt', 'yourselves', 'doubt', 'danger', 'overall', 'final', 'express', 'merchants', 'distributors', 'addition', 'lovely', 'stick', 'brexit', 'cream', 'french', 'abuse', 'count', 'neighbours', 'minimize', 'african', 'attack', 'raw', 'prior', 'pennsylvania', 'players', 'seattle', 'strange', 'et', 'bid', 'associates', 'aside', 'failing', 'conference', 'freezer', 'wall', 'chinavirus', 'western', 'slowing', 'tired', 'mental', 'phase', 'hotline', 'whatsapp', 'previously', 'accept', 'wonderful', 'comedy', 'load', 'sleep', 'forecast', 'certainly', 'permanent', 'experiences', 'sit', 'reached', 'nature', 'bunch', 'receiving', 'yo', 'grocerystores', 'unsung', 'field', 'locked', 'breaks', 'poverty', 'facts', 'delay', 'loads', 'steel', 'reusable', 'hoarded', 'strain', 'houston', 'ideas', 'england', 'pets', 'sneeze', 'yours', 'christmas', 'illness', 'jersey', 'surplus', 'cleared', 'industrial', 'al', 'types', 'grocerystore', 'project', 'garbage', 'refunds', 'victim', 'drinking', 'conversation', 'meaning', 'irresponsible', 'base', 'tickets', 'appreciation', 'induced', 'john', 'metres', 'begun', 'sydney', 'joined', 'earnings', 'democrats', 'surges', 'feeding', 'closer', 'rn', 'girl', 'rock', 'gotten', 'secure', 'usage', 'storage', 'decrease', 'paycheck', 'lab', 'fallen', 'sensible', 'atm', 'stressful', 'flat', 'sun', 'brad', 'strategies', 'refuse', 'launch', 'implement', 'soaring', 'centers', 'chloroquine', 'ourselves', 'claiming', 'dubai', 'constantly', 'beverage', 'governors', 'steal', 'pork', 'immunity', 'chocolate', 'poll', 'users', 'sadly', 'connect', 'foot', 'previous', 'transit', 'invest', 'precaution', 'streaming', 'cures', 'upon', 'crises', 'trash', 'included', 'flying', 'mins', 'angry', 'petroleum', 'md', 'banned', 'blow', 'lift', 'korea', 'kid', 'leader', 'brings', 'resulting', 'mumbai', 'blue', 'planet', 'meant', 'fightcovid', 'shoes', 'dirty', 'suspect', 'northern', 'staple', 'bureau', 'panicbuyers', 'fever', 'former', 'valley', 'halt', 'sucks', 'hitting', 'covididiots', 'version', 'officer', 'properly', 'factory', 'wiping', 'clothing', 'evolving', 'resilient', 'uae', 'responsibly', 'overnight', 'lunch', 'handwash', 'valuable', 'cancellations', 'nytimes', 'operate', 'trucks', 'exchange', 'ssupnow', 'max', 'rip', 'june', 'duty', 'yr', 'underlying', 'inc', 'fiscal', 'lidl', 'accelerate', 'aus', 'j', 'advised', 'luck', 'threats', 'tank', 'tea', 'restricted', 'recipe', 'increasingly', 'drinks', 'particular', 'forbes', 'hardest', 'experienced', 'discussion', 'purpose', 'investing', 'materials', 'starve', 'foodbanks', 'unemployed', 'bless', 'cbd', 'vouchers', 'quarter', 'posts', 'formula', 'besides', 'widespread', 'emptying', 'perishable', 'lidlgb', 'classes', 'fmcg', 'leads', 'senate', 'setting', 'planned', 'obviously', 'heavily', 'bailout', 'village', 'caring', 'highlights', 'comment', 'wholefoods', 'blood', 'dumping', 'initial', 'equity', 'construction', 'reaction', 'donald', 'attempt', 'nigerians', 'became', 'downturn', 'layoffs', 'checked', 'restocking', 'spirit', 'politicians', 'urging', 'speed', 'fraudulent', 'exclusive', 'alberta', 'disposable', 'minnesota', 'savings', 'pro', 'listening', 'enforce', 'slowly', 'excellent', 'delays', 'hardship', 'combined', 'weak', 'comments', 'reuters', 'discounts', 'insecurity', 'onto', 'stupidity', 'twice', 'volume', 'seek', 'stressed', 'projects', 'expects', 'shot', 'gatherings', 'nowhere', 'surface', 'iraq', 'purell', 'boom', 'drastically', 'firefighters', 'answered', 'dining', 'currency', 'steep', 'bin', 'pushed', 'foodbank', 'land', 'mayor', 'collectors', 'beautiful', 'feb', 'incredible', 'designed', 'imposed', 'fl', 'destroy', 'scenes', 'machine', 'calculator', 'lowering', 'standard', 'pr', 'cares', 'papers', 'quarentinelife', 'reserve', 'worries', 'puzzle', 'tools', 'spitting', 'butter', 'soaps', 'review', 'dogs', 'ignore', 'clearing', 'slashed', 'dream', 'shameful', 'radio', 'wild', 'met', 'suspended', 'marketplace', 'development', 'heartbreaking', 'anybody', 'imports', 'volatility', 'packaged', 'clorox', 'cc', 'size', 'spare', 'booked', 'fault', 'units', 'lessons', 'explore', 'predict', 'financially', 'unilever', 'inflate', 'lie', 'horrible', 'ending', 'faith', 'italian', 'denmark', 'criminal', 'reflect', 'connected', 'gym', 'treated', 'lies', 'passes', 'welfare', 'antibacterial', 'recipes', 'exploit', 'developing', 'nielsen', 'highlight', 'nursing', 'ai', 'ohio', 'illinois', 'miles', 'direction', 'oilprice', 'brave', 'dozen', 'opens', 'returns', 'missed', 'sounds', 'assholes', 'clock', 'persons', 'sells', 'fit', 'realise', 'dark', 'employers', 'vigilant', 'training', 'district', 'mandatory', 'ten', 'clubs', 'pull', 'indiafightscorona', 'truth', 'lenders', 'lockdowneffect', 'wasted', 'emerging', 'asks', 'suggests', 'heavy', 'somebody', 'processing', 'communications', 'hypermarket', 'wet', 'bidet', 'tons', 'asap', 'postponed', 'skyrocketed', 'sars', 'chemicals', 'beach', 'channels', 'signed', 'dip', 'birthday', 'pharmaceutical', 'legislation', 'treating', 'dude', 'sources', 'seller', 'michael', 'chat', 'emptied', 'dates', 'produced', 'react', 'demanding', 'closely', 'sound', 'charmin', 'cats', 'shirt', 'mini', 'en', 'comprehensive', 'colorado', 'adapting', 'shocking', 'trick', 'voice', 'finished', 'kinda', 'borders', 'hysteria', 'dow', 'fb', 'develop', 'appear', 'correct', 'temperature', 'assets', 'stayathomechallenge', 'writing', 'chances', 'asymptomatic', 'downingstreet', 'design', 'prepper', 'disinfectants', 'hang', 'morrison', 'collapsing', 'prove', 'provider', 'closings', 'op', 'na', 'promise', 'tho', 'crashing', 'licking', 'rude', 'expecting', 'ph', 'officially', 'starvation', 'workfromhome', 'sight', 'performance', 'cleaner', 'hikes', 'stepped', 'crap', 'handles', 'implemented', 'bitch', 'rises', 'suppose', 'toiletries', 'tracker', 'lending', 'recommend', 'pace', 'disappointed', 'headed', 'bigger', 'unit', 'frontlines', 'citizen', 'opposite', 'faced', 'tenants', 'inevitable', 'needing', 'routine', 'tinned', 'groceryworkers', 'shocked', 'thrown', 'appeal', 'eligible', 'airline', 'meds', 'entrance', 'practical', 'constant', 'coronaoutbreak', 'engage', 'mitigate', 'requires', 'gmb', 'earn', 'bastards', 'bathroom', 'screen', 'gap', 'flowers', 'gavinnewsom', 'adjusting', 'convenient', 'oversupply', 'socially', 'guardian', 'sufficient', 'medicare', 'chill', 'thats', 'category', 'province', 'massachusetts', 'operation', 'lowered', 'active', 'diet', 'ensuring', 'unique', 'pause', 'electric', 'offices', 'angeles', 'division', 'recommendations', 'vancouver', 'spikes', 'lesson', 'fraudsters', 'boycott', 'instacart', 'arizona', 'employed', 'needy', 'airport', 'declining', 'ended', 'considerate', 'unlikely', 'roof', 'meter', 'heads', 'vegan', 'mexico', 'historic', 'status', 'actors', 'infrastructure', 'grade', 'distributed', 'walks', 'examples', 'prefer', 'david', 'maximum', 'poultry', 'giveawayalert', 'jesus', 'passing', 'canon', 'adequate', 'ma', 'transactions', 'father', 'consequences', 'scarcity', 'ammo', 'switching', 'fee', 'coronaviruslockdownuk', 'bans', 'sundaythoughts', 'foxnews', 'stage', 'involved', 'zealand', 'contribute', 'potato', 'jacking', 'jumped', 'excess', 'psychology', 'overwhelming', 'zoom', 'stayhealthy', 'famous', 'reserves', 'fail', 'smh', 'stripping', 'producer', 'promote', 'prescription', 'diagnosed', 'cnbc', 'teens', 'selfquarantine', 'researchers', 'meters', 'discounted', 'scheduled', 'australians', 'deliberately', 'flipkart', 'locally', 'respiratory', 'electronics', 'proof', 'ignoring', 'farms', 'panel', 'owned', 'tune', 'tiktok', 'turbo', 'pocket', 'unexpected', 'oman', 'effectively', 'discover', 'passengers', 'awful', 'sh', 'brick', 'rescue', 'coronapocalypse', 'balance', 'contactless', 'spirits', 'organization', 'stealing', 'quantities', 'pics', 'relevant', 'hotel', 'steady', 'ffs', 'toiletpaperemergency', 'instructions', 'salary', 'da', 'ramping', 'preventing', 'broken', 'encouraging', 'pile', 'handy', 'utilities', 'janitors', 'suggestions', 'write', 'web', 'modi', 'improve', 'tool', 'plummeted', 'spotted', 'granted', 'breathing', 'indeed', 'kong', 'mess', 'behaviours', 'respirators', 'require', 'solidarity', 'watched', 'desperation', 'skin', 'wore', 'panickbuying', 'crore', 'evil', 'cans', 'threatening', 'joining', 'nearest', 'complaining', 'miami', 'declined', 'controlled', 'matthancock', 'attendants', 'nervous', 'winning', 'unlike', 'returned', 'profiting', 'advocates', 'schedule', 'panicked', 'soars', 'flow', 'hunt', 'freedom', 'justice', 'freezers', 'roads', 'wfh', 'rushing', 'juice', 'bakery', 'saved', 'relying', 'neighbour', 'medications', 'seafood', 'urgently', 'organisations', 'org', 'yall', 'mart', 'largely', 'sarscov', 'multi', 'coronavirusaustralia', 'chemist', 'triple', 'unfair', 'outrageous', 'therefore', 'accused', 'extend', 'tissues', 'gallons', 'image', 'crime', 'uganda', 'southafrica', 'disrupted', 'style', 'asthma', 'shifted', 'obvious', 'secretary', 'foundation', 'genius', 'cloth', 'begins', 'regional', 'tirelessly', 'contamination', 'republicans', 'encouraged', 'ride', 'investments', 'cuz', 'hindustan', 'collective', 'matters', 'ramp', 'race', 'pic', 'takeaway', 'upcoming', 'built', 'realized', 'nba', 'farming', 'emptyshelves', 'hong', 'guards', 'lying', 'coronavid', 'tx', 'bio', 'coronavirusoutbreakindia', 'folk', 'barely', 'contracted', 'reporter', 'whenever', 'premier', 'train', 'wealth', 'observe', 'pharma', 'neighbor', 'socialdistance', 'failure', 'sake', 'somewhere', 'cuomo', 'precautionary', 'success', 'nhsuk', 'handwashing', 'ie', 'contracts', 'plague', 'victims', 'notes', 'exposing', 'cdnpoli', 'annual', 'analytics', 'confused', 'theres', 'esp', 'honest', 'appropriate', 'stronger', 'figures', 'fyi', 'canceled', 'showed', 'venture', 'flatten', 'preparation', 'speaks', 'terrible', 'distributing', 'court', 'scenario', 'genuinely', 'culture', 'fined', 'outlets', 'risen', 'oilprices', 'shape', 'maryland', 'bullshit', 'dept', 'commissioner', 'lasting', 'election', 'cap', 'fields', 'nearby', 'gasprices', 'raises', 'bubble', 'dealers', 'quiet', 'stockpilinguk', 'eventually', 'remove', 'drastic', 'medication', 'behave', 'regulatory', 'predicted', 'forgot', 'exhausted', 'profiteers', 'personally', 'salute', 'farmer', 'whoever', 'soft', 'traditional', 'stockmarket', 'unrest', 'breath', 'badly', 'stayathomesavelives', 'recommends', 'dumb', 'whitehouse', 'wisconsin', 'suggested', 'coast', 'communication', 'adjust', 'peace', 'socialism', 'incomes', 'agreement', 'plea', 'mood', 'cpg', 'infect', 'msnbc', 'allows', 'elsewhere', 'contributing', 'golf', 'snacks', 'overtime', 'nashville', 'listings', 'arrest', 'towel', 'btw', 'football', 'gather', 'sneezing', 'essentialworkers', 'generation', 'mainly', 'thermometers', 'medium', 'chart', 'accepting', 'complain', 'thailand', 'hosting', 'diseases', 'norm', 'liquidity', 'assume', 'id', 'newsletter', 'surged', 'worrying', 'bright', 'lists', 'bailouts', 'strongly', 'declines', 'peoples', 'severely', 'teenagers', 'automotive', 'rally', 'wise', 'linked', 'crop', 'zone', 'scene', 'stockpiled', 'slightly', 'isle', 'zombie', 'attacks', 'original', 'arrive', 'fines', 'lng', 'shoprite', 'screens', 'vehicles', 'neither', 'politics', 'mile', 'utter', 'takeaways', 'quit', 'qatar', 'powerful', 'brooklyn', 'grows', 'decide', 'gains', 'mixed', 'giants', 'cake', 'carbon', 'views', 'moves', 'mentioned', 'shoot', 'restocked', 'coupled', 'factors', 'crypto', 'bushcraft', 'proven', 'curious', 'decent', 'repost', 'strategic', 'biz', 'shopkeepers', 'coronavirusmemes', 'commissions', 'scott', 'situations', 'hurts', 'crashed', 'snapshot', 'ignorant', 'attend', 'mp', 'universal', 'findings', 'sat', 'compromised', 'knowledge', 'supported', 'buyer', 'rid', 'misinformation', 'sanctions', 'lied', 'investigation', 'expose', 'bidding', 'fixing', 'labour', 'liquid', 'actively', 'incredibly', 'las', 'battling', 'fao', 'employer', 'importantly', 'parent', 'modern', 'bargain', 'machines', 'affects', 'returning', 'mortar', 'emotional', 'tills', 'identified', 'racism', 'values', 'forgotten', 'danish', 'flies', 'ambulance', 'recommended', 'applied', 'orange', 'sweet', 'seeds', 'nutrition', 'noon', 'nope', 'fights', 'handed', 'oilpricewar', 'announcing', 'trumpvirus', 'estimated', 'associated', 'remaining', 'advise', 'designated', 'prison', 'supplying', 'collapsed', 'gluten', 'stamps', 'uptick', 'booze', 'revenues', 'dutch', 'assure', 'sink', 'landscape', 'landlords', 'terrified', 'impose', 'software', 'operational', 'reopen', 'followed', 'thus', 'pleased', 'mining', 'wholesalers', 'toiletpaperchallenge', 'witnessed', 'keyworkers', 'merkel', 'leaves', 'ex', 'choices', 'depend', 'filed', 'professional', 'pulling', 'artists', 'locals', 'hill', 'institutions', 'doorstep', 'daylockdown', 'shocks', 'deck', 'devastating', 'em', 'lived', 'ton', 'supplier', 'dallas', 'releases', 'amongst', 'wealthy', 'brown', 'iceland', 'rubbing', 'corp', 'shower', 'finish', 'stood', 'supplied', 'recorded', 'tariffs', 'toiletroll', 'vegas', 'godrej', 'metal', 'budgets', 'ke', 'grip', 'schemes', 'random', 'rob', 'surviving', 'enable', 'phones', 'priced', 'cute', 'commitment', 'tokyo', 'coronavirusaus', 'tag', 'client', 'facility', 'pc', 'labs', 'stolen', 'childcare', 'shoplocal', 'dozens', 'maker', 'airborne', 'qualify', 'plunged', 'uv', 'lettuce', 'parties', 'senator', 'committee', 'shield', 'somehow', 'preferences', 'bbb', 'stockers', 'throwing', 'riots', 'tiny', 'wsj', 'permanently', 'bs', 'outbreaks', 'workingfromhome', 'square', 'boy', 'organic', 'couples', 'film', 'slashing', 'handing', 'seven', 'talked', 'gb', 'acts', 'calpol', 'james', 'brent', 'omg', 'containment', 'clue', 'abt', 'sam', 'useless', 'tom', 'icis', 'computer', 'island', 'wuhanvirus', 'identify', 'cell', 'baking', 'barrels', 'wti', 'premium', 'host', 'tweets', 'permitted', 'richard', 'preparedness', 'ccp', 'severity', 'parcels', 'aim', 'joy', 'reveal', 'prank', 'icu', 'boston', 'que', 'paramedics', 'wars', 'mix', 'shipments', 'fastest', 'regime', 'harvest', 'rooms', 'boosting', 'triggered', 'complex', 'disgraceful', 'besafe', 'portal', 'solve', 'bottled', 'volatile', 'declared', 'freaking', 'powers', 'delhi', 'adult', 'warnings', 'jeff', 'wells', 'removed', 'assured', 'trained', 'rations', 'spaces', 'fabric', 'material', 'pure', 'rebound', 'cupboards', 'harm', 'hollywood', 'weren', 'drone', 'overseas', 'rough', 'cry', 'habit', 'downward', 'suit', 'cleaned', 'song', 'unnecessarily', 'ward', 'diabetes', 'postpone', 'expanded', 'stackers', 'fans', 'startup', 'discussing', 'francisco', 'cancellation', 'deemed', 'pieces', 'nigerian', 'ikea', 'overcome', 'intentionally', 'institute', 'instagram', 'ps', 'bosses', 'confirms', 'havoc', 'depressed', 'entered', 'eats', 'rare', 'discovered', 'greatly', 'possibility', 'crops', 'headlines', 'dive', 'searching', 'texts', 'looting', 'followers', 'babies', 'noodles', 'le', 'youth', 'pledges', 'chemical', 'armed', 'loaf', 'coronavirusnewyork', 'physicaldistancing', 'el', 'bail', 'resulted', 'inform', 'manufacturer', 'defense', 'dan', 'relax', 'cyber', 'stabilize', 'written', 'downtown', 'print', 'reacting', 'registers', 'apr', 'sub', 'oregon', 'speakerpelosi', 'intelligence', 'accurate', 'copper', 'saudis', 'mo', 'se', 'jones', 'yoy', 'decade', 'billions', 'hedge', 'likes', 'tweeted', 'focusing', 'images', 'pound', 'correction', 'tumble', 'infectious', 'featuring', 'hole', 'shoutout', 'despicable', 'sparks', 'moratorium', 'recovered', 'george', 'emerge', 'finland', 'praise', 'baked', 'implementing', 'refused', 'govmurphy', 'bounce', 'route', 'rubber', 'upset', 'fridaythoughts', 'joint', 'jail', 'remotely', 'agents', 'bankruptcy', 'connection', 'strike', 'hubs', 'advance', 'combination', 'imported', 'lockdownnow', 'gamestop', 'kenyans', 'overwhelmed', 'sea', 'booking', 'ford', 'capped', 'chairman', 'wont', 'hardware', 'senators', 'stability', 'greatest', 'blocking', 'bear', 'repeat', 'odd', 'destruction', 'prayers', 'resist', 'telehealth', 'locusts', 'consume', 'breweries', 'sticks', 'collected', 'scheme', 'requirements', 'responded', 'urban', 'carrier', 'tap', 'generally', 'starbucks', 'cruise', 'pain', 'justintrudeau', 'van', 'covi', 'joins', 'relating', 'courtesy', 'ap', 'corrupt', 'disgusted', 'articles', 'proposed', 'crowding', 'reply', 'approve', 'eastern', 'eight', 'statewide', 'relatively', 'expand', 'speaking', 'pregnant', 'sparked', 'nonprofit', 'immunocompromised', 'row', 'map', 'listing', 'tape', 'fema', 'racist', 'bogus', 'iphone', 'consideration', 'nonsense', 'californians', 'contaminated', 'contacted', 'ar', 'boys', 'decreased', 'fascinating', 'hardly', 'breakfast', 'branch', 'associate', 'missouri', 'highs', 'centres', 'revealed', 'introducing', 'block', 'stays', 'manufacture', 'contains', 'decades', 'cautious', 'residential', 'jobless', 'pumps', 'hardships', 'austin', 'trigger', 'telephone', 'regulate', 'adjusted', 'pair', 'proceeds', 'digitalmarketing', 'thanked', 'combating', 'lifted', 'larger', 'corruption', 'primary', 'housewares', 'jan', 'prep', 'telegraph', 'skills', 'comply', 'vp', 'enforced', 'vodafone', 'specifically', 'publichealth', 'regards', 'guarantee', 'wellness', 'allergies', 'strangers', 'pounds', 'dress', 'eg', 'suits', 'territory', 'boredom', 'creates', 'paul', 'stayed', 'birx', 'hyderabad', 'banning', 'anticipate', 'sets', 'exist', 'bcg', 'toys', 'enforcing', 'fantastic', 'grown', 'apartment', 'edge', 'jokes', 'launching', 'towns', 'virtually', 'insurers', 'ignored', 'elections', 'spanish', 'expenses', 'threatens', 'bust', 'classified', 'risky', 'prop', 'quarantinediaries', 'partnership', 'wanting', 'cancer', 'sheets', 'strength', 'necessity', 'baker', 'hall', 'z', 'attempting', 'foodsecurity', 'masses', 'kicked', 'coordinator', 'watchdog', 'fiji', 'packets', 'endless', 'londonlockdown', 'dividend', 'favourite', 'chemists', 'procedures', 'roughly', 'trains', 'restriction', 'selfisolating', 'blessed', 'subscription', 'ladies', 'struggles', 'struck', 'suspension', 'paranoid', 'patience', 'packet', 'pandemics', 'aloe', 'frenzy', 'tripled', 'empathy', 'indoor', 'reliance', 'shopped', 'capitalist', 'involving', 'alternatives', 'bonds', 'mortgages', 'garage', 'attitude', 'peter', 'rona', 'instant', 'stuffs', 'marksandspencer', 'salt', 'cashapp', 'pulse', 'kingdom', 'hurry', 'environmental', 'temperatures', 'neighbourhood', 'tearful', 'cloud', 'allah', 'donates', 'hunting', 'rents', 'droplets', 'endure', 'thermometer', 'burden', 'played', 'targeted', 'kudos', 'ventilator', 'minds', 'topics', 'pays', 'exciting', 'deposit', 'counters', 'hurting', 'hydroxychloroquine', 'semi', 'disrupt', 'procurement', 'fishing', 'hadn', 'wellbeing', 'spit', 'studies', 'kantar', 'signing', 'behaving', 'covidcanada', 'bjp', 'thrive', 'corporation', 'homeworld', 'voting', 'dey', 'fuels', 'georgia', 'aerosol', 'additive', 'confirm', 'wasting', 'successful', 'laughing', 'scotland', 'millennials', 'speech', 'prompted', 'vehicle', 'kr', 'midnight', 'lottery', 'survived', 'moments', 'teach', 'breakdown', 'smell', 'letters', 'sauce', 'innovative', 'dawn', 'aftermath', 'quarantineandchill', 'precious', 'telecom', 'whom', 'introduce', 'compare', 'coronav', 'popped', 'misleading', 'loading', 'voucher', 'celebrate', 'cartoon', 'reserved', 'statistics', 'karma', 'celebrities', 'depot', 'metals', 'offset', 'grains', 'hoarder', 'ed', 'himself', 'drharshvardhan', 'silly', 'perfume', 'temp', 'virginia', 'slashes', 'highlighting', 'concept', 'ultimate', 'net', 'seemed', 'winter', 'investor', 'lowe', 'est', 'topic', 'tactics', 'lingers', 'observed', 'methods', 'applies', 'contagion', 'hide', 'compensation', 'reportedly', 'requests', 'royal', 'poop', 'compete', 'provision', 'skip', 'rwanda', 'inthistogether', 'bell', 'queueing', 'israel', 'weight', 'follows', 'oklahoma', 'toiletpapergate', 'explained', 'containers', 'angela', 'names', 'disability', 'scrubs', 'arms', 'seeking', 'vitamin', 'brits', 'proposal', 'foodshortages', 'guaranteed', 'lifeline', 'venezuela', 'ultimately', 'traveling', 'humble', 'economists', 'coz', 'recognize', 'suggestion', 'firearms', 'fauci', 'cx', 'passover', 'interact', 'chips', 'melbourne', 'dust', 'flexible', 'exceed', 'barriers', 'starving', 'gate', 'remained', 'metre', 'estimates', 'prey', 'knock', 'suspending', 'grandparents', 'regions', 'quote', 'indefinitely', 'mindset', 'promised', 'reminds', 'bed', 'paint', 'properties', 'wedding', 'issuing', 'singing', 'cycle', 'destroyed', 'physically', 'enemy', 'provisions', 'sanitary', 'dance', 'junk', 'restrict', 'fingers', 'ignorance', 'unbelievable', 'summary', 'glasses', 'criminals', 'con', 'extending', 'asshole', 'covers', 'achieve', 'zimbabwe', 'safeguard', 'submit', 'accessible', 'surveys', 'shuttered', 'usda', 'caps', 'vodafoneuk', 'bike', 'reduces', 'custom', 'comics', 'lay', 'conducted', 'shipment', 'peeps', 'robust', 'herd', 'ug', 'entirely', 'furniture', 'intended', 'buses', 'regardless', 'doubling', 'pollution', 'influence', 'extends', 'investigate', 'lockdownuknow', 'finger', 'mike', 'iowa', 'taxi', 'controls', 'eliminate', 'numerous', 'guilty', 'display', 'exclusively', 'unknown', 'williams', 'journalists', 'path', 'caution', 'albertsons', 'believes', 'helpers', 'indians', 'models', 'atlanta', 'arm', 'atleast', 'arvindkejriwal', 'soldiers', 'mondaymotivation', 'societies', 'respected', 'vodka', 'foodstuffs', 'publicly', 'tins', 'somewhat', 'ji', 'context', 'enhanced', 'ethical', 'suspected', 'kinds', 'walgreens', 'stacking', 'camera', 'discretionary', 'migrant', 'spar', 'bonuses', 'hording', 'crudeoil', 'resident', 'proactive', 'lowes', 'hiding', 'sustainable', 'fcc', 'requesting', 'meats', 'effected', 'counties', 'score', 'hygienic', 'ho', 'beds', 'matt', 'guessing', 'throat', 'churches', 'preventive', 'monetary', 'seeks', 'flood', 'cryptocurrency', 'menu', 'copy', 'optimistic', 'processors', 'transfer', 'containing', 'surreal', 'impressed', 'terrifying', 'career', 'examines', 'blocked', 'coal', 'newnormal', 'vitamins', 'tries', 'afloat', 'billionaires', 'strictly', 'insider', 'educate', 'recipients', 'aka', 'certified', 'btc', 'skyuk', 'addressing', 'tipping', 'hilarious', 'logic', 'scrambling', 'competitive', 'collecting', 'lakh', 'kentucky', 'prioritize', 'located', 'delicious', 'lorry', 'pos', 'variety', 'strained', 'rolling', 'covidindia', 'heightened', 'jordan', 'ripping', 'fr', 'newyork', 'kagutamuseveni', 'switched', 'holders', 'targeting', 'cheers', 'cr', 'unavailable', 'smith', 'photography', 'difficulties', 'vast', 'courier', 'cashing', 'tuned', 'parcel', 'percentage', 'bond', 'license', 'turmoil', 'match', 'volumes', 'loblaws', 'piled', 'refrain', 'equivalent', 'quantity', 'mild', 'select', 'wegmans', 'andrew', 'malaria', 'craft', 'sacrifice', 'spots', 'scottmorrisonmp', 'infecting', 'aged', 'extension', 'tim', 'roundtable', 'chatting', 'wherever', 'subject', 'swear', 'bacterial', 'appointment', 'mindful', 'vacation', 'shuts', 'vermont', 'plexiglass', 'misery', 'shields', 'abused', 'confinement', 'fracking', 'differently', 'muslim', 'solid', 'desperately', 'glass', 'coronavirusau', 'accc', 'mohfw', 'broadband', 'tight', 'inspired', 'crush', 'kimberly', 'applications', 'roles', 'entitled', 'advising', 'english', 'cm', 'petrochemical', 'voted', 'impending', 'marked', 'yrs', 'campaigns', 'pacific', 'band', 'repair', 'surveyed', 'pricegougers', 'saturdaymorning', 'relaxed', 'honor', 'jacked', 'gen', 'olympics', 'thinkwithgoogle', 'heros', 'overheard', 'highlighted', 'karen', 'shelters', 'retailnews', 'alot', 'absurd', 'sooner', 'nine', 'adds', 'contagious', 'december', 'livestock', 'port', 'dem', 'chris', 'theaters', 'fly', 'stands', 'plummets', 'fuckin', 'drawing', 'gulf', 'isnt', 'blows', 'onion', 'coronamemes', 'carolina', 'stats', 'compliance', 'bracing', 'nuts', 'factor', 'dire', 'coronavirusinpakistan', 'disabilities', 'dwindling', 'theft', 'campus', 'stating', 'aoc', 'exception', 'supports', 'optimism', 'robocalls', 'startups', 'rightly', 'taught', 'confusion', 'offline', 'kag', 'coupons', 'stranger', 'asdaserviceteam', 'produces', 'lifestyle', 'fargo', 'circle', 'seed', 'fucked', 'apparel', 'govuk', 'nzherald', 'rbi', 'artist', 'ring', 'intervention', 'thankfully', 'wednesdaythoughts', 'exact', 'grew', 'fat', 'ideal', 'odisha', 'stockpilers', 'generous', 'collaboration', 'grain', 'compiled', 'immigrants', 'reliable', 'expands', 'pressures', 'lbs', 'messaging', 'feedback', 'jason', 'goal', 'ufcw', 'forum', 'trusted', 'aimed', 'winner', 'chair', 'kick', 'extraordinary', 'serves', 'holy', 'mcdonald', 'interaction', 'growers', 'enjoying', 'frustrating', 'glut', 'sustainability', 'lmao', 'drones', 'weed', 'alerts', 'birds', 'massively', 'drove', 'railways', 'assess', 'player', 'kn', 'cfpb', 'explaining', 'scramble', 'ample', 'cafe', 'pensioners', 'layer', 'positions', 'grocer', 'thanking', 'representing', 'ashley', 'pissed', 'exempt', 'fm', 'wks', 'butchers', 'marking', 'oflockdown', 'runwalofficial', 'thursdaythoughts', 'mobility', 'resilience', 'luckily', 'quarantines', 'foreseeable', 'louis', 'gaming', 'bound', 'deeper', 'cops', 'expanding', 'ball', 'alex', 'indiana', 'disney', 'zombies', 'halted', 'ginger', 'deeply', 'pockets', 'nightmare', 'berlin', 'hashtag', 'disturbing', 'safest', 'younger', 'woods', 'nhsheroes', 'evictions', 'sanitized', 'prof', 'developments', 'october', 'windows', 'stalls', 'dis', 'declare', 'downs', 'fulfill', 'incl', 'separate', 'deserved', 'exploitation', 'diary', 'served', 'swiss', 'washingtonpost', 'emarketer', 'regulators', 'designs', 'proving', 'rethink', 'saferathome', 'losangeles', 'ounce', 'application', 'regulated', 'va', 'shake', 'labels', 'sp', 'nsw', 'til', 'colleague', 'agent', 'visitors', 'terroristic', 'coronaalert', 'freight', 'farmworkers', 'hourly', 'pathetic', 'yeast', 'ugly', 'fueled', 'pumping', 'beaches', 'determined', 'gyms', 'argos', 'kenyan', 'contribution', 'competing', 'desk', 'deli', 'newly', 'hurricane', 'cybersecurity', 'terror', 'villages', 'nhsworkers', 'randomly', 'populations', 'lick', 'countdown', 'fortunate', 'huh', 'charts', 'dangers', 'alongside', 'install', 'cafes', 'interactive', 'lifetime', 'updating', 'doug', 'waive', 'travelling', 'handled', 'spx', 'pants', 'feelings', 'addiction', 'preppers', 'navigating', 'smoke', 'praying', 'registered', 'queensland', 'surprising', 'difficulty', 'egypt', 'influx', 'declaration', 'tin', 'wk', 'annoying', 'accelerated', 'hence', 'margins', 'mbs', 'whiskey', 'netherlands', 'minimal', 'conspiracy', 'compassion', 'aussie', 'pivot', 'cmomaharashtra', 'recovering', 'whats', 'sen', 'countless', 'regulation', 'gowns', 'relative', 'rain', 'unsafe', 'horror', 'relationship', 'supportlocal', 'checkouts', 'lonely', 'salaries', 'nike', 'seasonal', 'buck', 'perfectly', 'wic', 'cancelling', 'bernie', 'responds', 'chancellor', 'reminding', 'keyworker', 'sensitive', 'dick', 'mondaythoughts', 'requested', 'shale', 'portfolio', 'establishments', 'solved', 'announcements', 'approximately', 'journey', 'adventure', 'unlimited', 'lockdownextension', 'pres', 'sanity', 'database', 'initiatives', 'admit', 'sickness', 'particles', 'escape', 'gp', 'loose', 'dependent', 'arrows', 'pulled', 'coronalockdown', 'pipeline', 'typically', 'interviewed', 'venmo', 'ethics', 'rome', 'appliances', 'loving', 'goals', 'bananas', 'fragile', 'golden', 'mankind', 'vr', 'rot', 'martin', 'glove', 'shaped', 'fairly', 'clap', 'mentalhealth', 'sketch', 'screw', 'ripple', 'forecasts', 'settle', 'dish', 'behavioral', 'despair', 'sizes', 'timing', 'engaged', 'shaw', 'replenish', 'moody', 'wa', 'cigarettes', 'wing', 'scarf', 'safetyfirst', 'emergencies', 'atta', 'function', 'foodwaste', 'television', 'shareholders', 'rolled', 'accelerating', 'sheep', 'boots', 'cooks', 'woolies', 'tremendous', 'queens', 'ck', 'popping', 'fossil', 'prosecuted', 'upside', 'skilled', 'classed', 'athletes', 'coop', 'toxic', 'britons', 'conduct', 'lawmakers', 'gifts', 'selected', 'poetry', 'microsoft', 'attached', 'networks', 'grants', 'practising', 'consistent', 'filter', 'cre', 'carefully', 'whammy', 'licenses', 'therapy', 'maintenance', 'opt', 'clinic', 'screening', 'acted', 'segment', 'handsanitizers', 'frontliners', 'yelled', 'argue', 'deadline', 'cbs', 'thousand', 'thresholds', 'ukraine', 'anytime', 'polite', 'ppes', 'patel', 'er', 'socal', 'bacon', 'socialmedia', 'delivers', 'suggesting', 'advisory', 'benchmark', 'governance', 'telemedicine', 'incident', 'judge', 'hackers', 'drugstore', 'senatemajldr', 'grant', 'soul', 'isles', 'refuses', 'nail', 'ordinary', 'behalf', 'slowed', 'pension', 'observing', 'employ', 'outdoor', 'brain', 'mrx', 'ww', 'errands', 'ottawa', 'toilets', 'meetings', 'facilitate', 'wheels', 'hug', 'alleviate', 'ct', 'texans', 'device', 'method', 'reopening', 'berniesanders', 'chickens', 'admin', 'earned', 'joebiden', 'adhere', 'dispute', 'selection', 'crossing', 'upper', 'assistant', 'workplace', 'plain', 'secret', 'jeffbezos', 'investigating', 'loyalty', 'bt', 'unacceptable', 'bbcbreakfast', 'foodservice', 'cleanliness', 'tonnes', 'violence', 'khan', 'mounting', 'realised', 'flooding', 'prompts', 'recruiting', 'hosted', 'minimise', 'agri', 'chopped', 'beast', 'sc', 'spree', 'confident', 'transaction', 'vegetarian', 'threatened', 'haha', 'scum', 'engaging', 'acceptable', 'assistants', 'threaten', 'yep', 'bandana', 'ts', 'stranded', 'lord', 'efficient', 'upends', 'ing', 'fordnation', 'leilani', 'reassure', 'piss', 'widely', 'contestalert', 'nutritious', 'approval', 'editor', 'tata', 'inner', 'projected', 'immigrant', 'worldhealthday', 'infographic', 'alonetogether', 'unite', 'typical', 'disgrace', 'transparency', 'wallstreet', 'obesity', 'generations', 'latter', 'language', 'artificial', 'retailworkers', 'pushes', 'reference', 'gang', 'bastard', 'haul', 'noticing', 'blockchain', 'tube', 'cunts', 'fakenews', 'fan', 'privilege', 'directed', 'downside', 'inputs', 'tuna', 'nights', 'butcher', 'harmful', 'estimate', 'trials', 'dayslockdown', 'opposition', 'processes', 'ukgoverment', 'ministers', 'routes', 'alright', 'comic', 'dettol', 'floridians', 'discussed', 'removing', 'victoria', 'sf', 'nc', 'afghanistan', 'arseholes', 'smartphone', 'intensifies', 'fishermen', 'warm', 'shooting', 'alike', 'ba', 'pot', 'diamond', 'import', 'records', 'sobeys', 'rx', 'goodness', 'replace', 'relieve', 'loyal', 'protein', 'panicbuy', 'negatively', 'processed', 'staythefhome', 'revolution', 'overcharging', 'debate', 'med', 'cbsnews', 'waiving', 'assessment', 'predictions', 'marketcrash', 'genomics', 'promoting', 'instructed', 'aggressive', 'shoulder', 'evolve', 'sunshine', 'workout', 'explores', 'leisure', 'blowing', 'hugely', 'parliament', 'dailymailuk', 'wallet', 'engagement', 'centric', 'candy', 'appalling', 'bradpaisley', 'fearful', 'spy', 'shaming', 'usps', 'wh', 'cheapest', 'hint', 'consumerbehavior', 'debit', 'proves', 'enters', 'comfortable', 'proximity', 'explode', 'forex', 'aldiaustralia', 'specially', 'owns', 'robot', 'arguing', 'nhscovidheroes', 'rumours', 'spoken', 'elbow', 'susceptible', 'judging', 'dumped', 'user', 'necessarily', 'successfully', 'treats', 'feature', 'pledge', 'cleveland', 'color', 'predicts', 'alphabet', 'alarming', 'woke', 'vietnam', 'looroll', 'uncertainties', 'tables', 'arab', 'stash', 'thin', 'applaud', 'disappear', 'girls', 'sample', 'hanging', 'roundup', 'pivoting', 'seo', 'coronauk', 'cvs', 'aims', 'blaming', 'coronavirusinsa', 'cabinet', 'decreases', 'expired', 'gin', 'trollies', 'struggled', 'depth', 'deficit', 'membership', 'bleak', 'plunges', 'improvement', 'denied', 'laptops', 'apparent', 'aids', 'fails', 'sneezes', 'guest', 'bout', 'bins', 'gaza', 'pointing', 'irony', 'onset', 'nhsstaff', 'masked', 'slide', 'ng', 'fired', 'ours', 'interactions', 'ingredient', 'sought', 'crooks', 'installed', 'eaten', 'substitute', 'commit', 'transmitted', 'herself', 'stem', 'unions', 'smallbusiness', 'entrepreneur', 'prospect', 'adhering', 'bookings', 'extent', 'sheet', 'onpoli', 'pulses', 'quebec', 'mt', 'grabbed', 'hawaii', 'ratings', 'combo', 'cornwall', 'easyfundraising', 'perceptions', 'printing', 'cereal', 'suck', 'buildings', 'makeup', 'germ', 'wales', 'ce', 'refugees', 'grabbing', 'diarrhea', 'lasts', 'cooked', 'protects', 'brussels', 'lineup', 'realtor', 'enormous', 'wind', 'clip', 'allocated', 'requiring', 'thoughtful', 'substantial', 'benefiting', 'earthquake', 'utah', 'nasty', 'bangladesh', 'kuwait', 'eve', 'licked', 'askebay', 'tourists', 'pak', 'advanced', 'underway', 'moh', 'latex', 'protocols', 'altered', 'cargo', 'damaged', 'appealing', 'economically', 'fortnight', 'snack', 'indonesia', 'gauging', 'clapping', 'pretending', 'valued', 'reminded', 'duties', 'supplements', 'organised', 'century', 'timeline', 'organisation', 'samples', 'smoking', 'lamb', 'ships', 'july', 'ebt', 'confined', 'cotton', 'gmail', 'logistical', 'smooth', 'suspends', 'helpline', 'poorly', 'shitty', 'lee', 'permission', 'pune', 'rus', 'cheat', 'mount', 'duration', 'prioritise', 'smiling', 'insist', 'stark', 'lawsuit', 'euro', 'jewelry', 'christian', 'kevin', 'politely', 'defeat', 'daniel', 'mothers', 'determine', 'grapples', 'bodies', 'greece', 'tree', 'pelosi', 'flush', 'pulte', 'merchandise', 'frightening', 'marijuana', 'garlic', 'pwc', 'lvmh', 'coronavirussa', 'meantime', 'addressed', 'penalties', 'leverage', 'slammed', 'concerning', 'reward', 'majeure', 'earning', 'readers', 'breathe', 'appearing', 'destroying', 'dating', 'christ', 'rant', 'vice', 'resume', 'reaches', 'goi', 'claimed', 'insulin', 'scores', 'identity', 'doc', 'historical', 'skytv', 'november', 'signals', 'bent', 'delaware', 'organized', 'celebrating', 'republican', 'enterprise', 'shirts', 'spam', 'document', 'condoms', 'steve', 'automation', 'milkman', 'arrangements', 'amitshah', 'brace', 'assures', 'coronaviruspakistan', 'kaduna', 'arising', 'elected', 'funeral', 'unfairly', 'pointed', 'crew', 'mega', 'wi', 'unpaid', 'tragedy', 'tuesdaythoughts', 'ig', 'qanon', 'performing', 'hats', 'didnt', 'beings', 'strip', 'tanks', 'tomatoes', 'directors', 'occurred', 'sacrifices', 'notification', 'facial', 'rentals', 'productive', 'trucking', 'dreams', 'ugh', 'gesture', 'robots', 'fold', 'curtail', 'pence', 'wildlife', 'midwest', 'nyse', 'coronaupdate', 'kelly', 'attorneys', 'auction', 'cruel', 'headquarters', 'cooperation', 'nycmayor', 'recruit', 'fucks', 'log', 'named', 'fool', 'reflects', 'hmm', 'coverings', 'timely', 'thoroughly', 'suburban', 'occupancy', 'corps', 'waived', 'avail', 'switzerland', 'logo', 'cmagovuk', 'psychologist', 'shell', 'washed', 'wins', 'del', 'vulnerability', 'italia', 'flexibility', 'tackling', 'joking', 'vendor', 'cs', 'moral', 'holds', 'ranchers', 'dtc', 'obligations', 'museveni', 'raid', 'witness', 'staffs', 'laughed', 'shipped', 'container', 'owing', 'alibaba', 'math', 'mac', 'movements', 'moscow', 'tweeting', 'maharashtra', 'vera', 'bits', 'kirana', 'pt', 'twisted', 'labourers', 'yellow', 'mifi', 'insanity', 'weaker', 'undervalued', 'nappies', 'shits', 'chose', 'carried', 'breakingnews', 'gcc', 'detroit', 'redistribution', 'protectthenhs', 'ironic', 'taxpayers', 'technologies', 'nonprofits', 'lane', 'informal', 'gained', 'slows', 'pivots', 'redistribute', 'staggering', 'intervene', 'carrots', 'complicated', 'yorkers', 'replied', 'ktrtrs', 'films', 'subsequent', 'wal', 'tragic', 'chinesewuhanvirus', 'vans', 'classic', 'heartfelt', 'caregivers', 'indicating', 'coro', 'fort', 'recycling', 'costing', 'cinema', 'iptv', 'irish', 'linen', 'teen', 'raided', 'motion', 'ray', 'harvey', 'millionaire', 'ab', 'crack', 'respecting', 'factbox', 'incase', 'abroad', 'trial', 'owe', 'dilemma', 'wishing', 'perishables', 'mate', 'bezos', 'specialist', 'plate', 'inspiration', 'attempts', 'lung', 'normalcy', 'ri', 'survivalist', 'dressed', 'technicians', 'fulfillment', 'proposals', 'marks', 'knees', 'filmed', 'directive', 'pleasant', 'born', 'cousin', 'naira', 'eviction', 'meets', 'replacement', 'unscrupulous', 'quarantining', 'stages', 'controlling', 'japanese', 'irvpaswan', 'goggles', 'maddow', 'converted', 'nowadays', 'hemp', 'interests', 'glasgow', 'calgary', 'unity', 'dig', 'skill', 'paypal', 'rub', 'maine', 'ha', 'downloads', 'beijing', 'beverages', 'commonsense', 'fixes', 'guests', 'enact', 'distilling', 'crisp', 'tumbled', 'entities', 'jumps', 'weighs', 'rewards', 'mouths', 'jerk', 'kidding', 'fred', 'slower', 'bump', 'grand', 'abcnews', 'hamster', 'ripped', 'insightful', 'praised', 'presents', 'democrat', 'contacts', 'pneumonia', 'plentiful', 'rounds', 'brunt', 'spectrum', 'icelandfoods', 'pittsburgh', 'nonessential', 'primarily', 'opinions', 'shampoo', 'anticipation', 'flows', 'fatalities', 'loses', 'thesun', 'foodsafety', 'transition', 'bloomberg', 'radically', 'foodsupply', 'loaded', 'canberra', 'journal', 'bankrupt', 'counts', 'isopropyl', 'dragged', 'spell', 'learnt', 'relationships', 'queued', 'assignments', 'dna', 'backed', 'thick', 'valid', 'waves', 'illustration', 'polish', 'depends', 'patrons', 'arrange', 'stated', 'technical', 'ghost', 'scent', 'panickbuyinguk', 'remembered', 'signage', 'robbery', 'stamp', 'slap', 'fam', 'dealt', 'elite', 'foodstuff', 'retirement', 'pool', 'posed', 'opportunistic', 'deserves', 'cmo', 'prioritizing', 'respondents', 'cma', 'deputy', 'herald', 'brian', 'teaching', 'rishisunak', 'relation', 'exponentially', 'az', 'shed', 'prevents', 'described', 'hometown', 'presented', 'clinical', 'library', 'nbcnews', 'fares', 'waited', 'cable', 'inventories', 'drama', 'urgency', 'bazaar', 'tasks', 'barren', 'ate', 'detail', 'forms', 'slip', 'tablets', 'manufactured', 'hidden', 'af', 'respectful', 'cyrilramaphosa', 'rand', 'receipt', 'abuja', 'dried', 'expansion', 'malicious', 'socialdistancingnow', 'newyorkcity', 'gardening', 'scientific', 'nascent', 'hydro', 'representatives', 'crews', 'binge', 'exporting', 'depending', 'decimated', 'furloughs', 'squeeze', 'interim', 'truce', 'harper', 'payday', 'mailonline', 'democratic', 'rail', 'leg', 'utterly', 'moron', 'sticking', 'entrances', 'fmi', 'concert', 'reeling', 'beneficiaries', 'ocd', 'coronavir', 'ah', 'beg', 'verify', 'newspapers', 'equipped', 'lulu', 'imran', 'bro', 'sex', 'verizon', 'reporters', 'printed', 'substantially', 'naturally', 'sentence', 'brief', 'distillers', 'premiums', 'sized', 'cater', 'exec', 'cookies', 'couriers', 'deliveroo', 'nsitharaman', 'finminindia', 'harvesting', 'blind', 'perspectives', 'accommodation', 'damaging', 'carton', 'openings', 'punch', 'gst', 'theme', 'prayer', 'tn', 'lowers', 'resort', 'quotes', 'thehill', 'searches', 'tf', 'dankmemes', 'bite', 'dontpanic', 'myths', 'dine', 'socialist', 'fractured', 'eastersunday', 'battered', 'fijian', 'southern', 'sneezed', 'lahore', 'bunker', 'pending', 'fitting', 'restricting', 'crushed', 'stance', 'sensibly', 'grossly', 'fridayfeeling', 'threw', 'hoosiers', 'amazonuk', 'apples', 'sheer', 'consequence', 'brescia', 'screwed', 'connections', 'lewis', 'honey', 'partnered', 'wuhancoronavirus', 'primark', 'philly', 'bragging', 'verbally', 'uh', 'powder', 'keepyourdistance', 'revised', 'importers', 'aviation', 'realistic', 'worn', 'crackdown', 'overlooked', 'conscious', 'dealer', 'halal', 'respectively', 'peas', 'wood', 'cardboard', 'kleenex', 'stream', 'aspects', 'propose', 'phoenix', 'mills', 'emts', 'species', 'positives', 'catastrophic', 'grace', 'involves', 'compares', 'furloughed', 'profiteer', 'bingo', 'lemon', 'courage', 'anyways', 'consumed', 'declares', 'courses', 'digest', 'kitchens', 'cakes', 'signal', 'alcoholic', 'negotiations', 'reactions', 'intensive', 'retired', 'coworkers', 'eagle', 'commentary', 'reshaping', 'wereinthistogether', 'mcdonalds', 'cashless', 'shopkeeper', 'definition', 'generated', 'terrorism', 'communist', 'stakeholders', 'laughter', 'postmen', 'regard', 'protocol', 'msm', 'mystery', 'imf', 'boomers', 'musicians', 'wed', 'celebration', 'pose', 'weapon', 'core', 'abusing', 'protest', 'begging', 'portable', 'shore', 'anticipated', 'routines', 'apologize', 'les', 'shrinking', 'cushion', 'grandma', 'shs', 'headline', 'incompetent', 'skype', 'theory', 'angel', 'stricken', 'scenarios', 'flowing', 'chest', 'accepted', 'subsides', 'pricks', 'surprisingly', 'proved', 'legit', 'hubby', 'visa', 'adopted', 'susannareid', 'placing', 'craziness', 'exit', 'observation', 'apologise', 'worlds', 'governortomwolf', 'econ', 'moaning', 'cartel', 'magnitude', 'ultra', 'filthy', 'borrowers', 'fridges', 'creativity', 'sum', 'acknowledge', 'andy', 'reviews', 'antonio', 'litres', 'investigated', 'steam', 'strikes', 'upward', 'considers', 'structure', 'flattening', 'execs', 'cue', 'transformed', 'readily', 'gates', 'jim', 'bother', 'represent', 'lpg', 'ish', 'witnessing', 'publication', 'incindia', 'tumbling', 'internal', 'superheroes', 'narrative', 'communicate', 'pointless', 'storing', 'equally', 'prevailing', 'hunker', 'catches', 'sickening', 'progress', 'participating', 'approaches', 'wwii', 'teacher', 'collapses', 'looming', 'pe', 'prescriptions', 'pg', 'unusual', 'queen', 'mn', 'iam', 'preferred', 'appeared', 'observations', 'presence', 'weapons', 'raiding', 'hyper', 'briefings', 'mps', 'sundaymorning', 'sparking', 'prospects', 'californialockdown', 'astronomical', 'genuine', 'ramen', 'candidate', 'soybean', 'practise', 'facetime', 'trudeau', 'cow', 'cracking', 'equal', 'junior', 'brazil', 'pandemia', 'arrival', 'wrapped', 'rm', 'tfl', 'quicker', 'automatic', 'braved', 'distant', 'figured', 'universities', 'yell', 'barrier', 'shaping', 'purposely', 'consumerprotection', 'favor', 'dystopian', 'toiletpapershortage', 'prepares', 'interviews', 'instance', 'encourages', 'ksa', 'bengaluru', 'dorset', 'miners', 'tonic', 'unreal', 'inspire', 'webpage', 'length', 'ncov', 'needless', 'picknpay', 'spat', 'correctly', 'hearts', 'mainstream', 'kicks', 'ky', 'tennessee', 'contained', 'functional', 'stars', 'tougher', 'mon', 'celebrity', 'lanes', 'humanitarian', 'airports', 'classify', 'malware', 'wednesdaywisdom', 'arriving', 'liverpool', 'bat', 'suffered', 'ram', 'sms', 'ltd', 'programme', 'soared', 'kate', 'buybacks', 'quarantineactivities', 'hungary', 'compensate', 'essays', 'lacking', 'pads', 'eh', 'kidney', 'gm', 'infrared', 'sigh', 'illnesses', 'spaghetti', 'operator', 'wheel', 'waters', 'gazette', 'outcomes', 'avoided', 'automatically', 'winners', 'partial', 'euros', 'collections', 'fintech', 'violating', 'rep', 'extensive', 'symbol', 'alarm', 'receives', 'promotion', 'fedex', 'tomato', 'reassuring', 'cupboard', 'renting', 'ids', 'relate', 'blocks', 'tyson', 'purposes', 'mothersday', 'tracked', 'lka', 'srilanka', 'designer', 'fca', 'cambridge', 'profile', 'outlet', 'govts', 'believed', 'planting', 'boyfriend', 'coronavillains', 'reject', 'burn', 'wary', 'bestbuy', 'mandated', 'ect', 'stall', 'grapple', 'questionable', 'drag', 'waking', 'acquired', 'stayathomeandstaysafe', 'frequent', 'features', 'justsaying', 'ventured', 'robert', 'sprayed', 'fatal', 'portion', 'buffer', 'mary', 'lifting', 'fitness', 'ni', 'howard', 'weakened', 'insensitive', 'battles', 'sanitising', 'philippines', 'complimentary', 'sourcing', 'scored', 'purposefully', 'floors', 'adversity', 'atlantic', 'responder', 'installing', 'idk', 'americas', 'relatives', 'wisdom', 'refer', 'flower', 'falsely', 'unsolicited', 'superstore', 'nebraska', 'gougers', 'gal', 'tour', 'trapped', 'lbc', 'paused', 'pin', 'ii', 'railway', 'opposed', 'tory', 'assuming', 'tire', 'secondary', 'carrefour', 'addresses', 'easing', 'korean', 'noted', 'birth', 'firemen', 'transunion', 'paris', 'arent', 'robbing', 'whereas', 'mi', 'poses', 'reliant', 'bagging', 'racing', 'avenue', 'seriousness', 'homebound', 'wishes', 'subsidy', 'emerged', 'saturdaythoughts', 'staffing', 'gender', 'laptop', 'sprays', 'lawsuits', 'solely', 'sweeping', 'karnataka', 'busch', 'maize', 'pilot', 'helpeachother', 'newsom', 'iga', 'npr', 'ausbiz', 'utmost', 'troops', 'spin', 'poorer', 'sec', 'kansas', 'objects', 'setup', 'depressing', 'exacerbated', 'pharmaceuticals', 'standstill', 'adopt', 'advocacy', 'janatacurfew', 'allowance', 'donors', 'preserve', 'premises', 'dispensers', 'sessions', 'rationed', 'contrast', 'sewing', 'consuming', 'medics', 'bullish', 'clarify', 'obey', 'studying', 'rushed', 'fdic', 'bangkok', 'seat', 'doom', 'itvnews', 'thomas', 'approx', 'wire', 'artificially', 'indicative', 'woes', 'completed', 'conservatives', 'immense', 'outfit', 'distanced', 'ssa', 'enabling', 'recap', 'atms', 'gears', 'essentialworker', 'coronaviruscanada', 'penny', 'frm', 'coincidence', 'plane', 'footing', 'realizing', 'coronavirusinindia', 'di', 'sap', 'wankers', 'li', 'hospitalized', 'digit', 'heck', 'charitable', 'italians', 'dividends', 'disinfection', 'appropriately', 'packing', 'magazine', 'improved', 'presidential', 'jet', 'overdrive', 'tied', 'ubereats', 'oilandgas', 'unskilled', 'ave', 'clowns', 'outlines', 'unfolding', 'flyfrontier', 'sanitization', 'twats', 'iranian', 'iraqi', 'clarity', 'springs', 'bird', 'specialists', 'momentum', 'josh', 'wfp', 'fare', 'reductions', 'transformation', 'august', 'insufficient', 'asses', 'sheltering', 'shine', 'versus', 'pairs', 'belgium', 'tampa', 'tobacco', 'mentality', 'laboratory', 'spiking', 'simon', 'dash', 'merch', 'indiafightscoronavirus', 'holdings', 'boycotthul', 'coronainpakistan', 'quarterly', 'inability', 'creators', 'reflected', 'legitimate', 'dollartree', 'audience', 'cooper', 'wonders', 'mtn', 'mkt', 'volunteering', 'browsing', 'advertise', 'accessing', 'ransacked', 'spiral', 'imrankhanpti', 'su', 'stake', 'structural', 'gary', 'weddings', 'homeschooling', 'unitedstates', 'murphy', 'broad', 'cried', 'mrp', 'mbuhari', 'micro', 'danielandrewsmp', 'tensions', 'attending', 'evolution', 'privileged', 'coronavirusnz', 'doomsday', 'amzn', 'whatsoever', 'detailed', 'deferred', 'overpricing', 'functioning', 'quoted', 'faqs', 'fools', 'afterwards', 'lake', 'furlough', 'layers', 'camp', 'lupus', 'scottish', 'dedicate', 'elders', 'nys', 'sustain', 'reckon', 'bcpoli', 'convinced', 'survivor', 'inadequate', 'moreover', 'hydcitypolice', 'jennifer', 'checklist', 'neighborhoods', 'richest', 'nclc', 'browse', 'mutual', 'sport', 'belt', 'discussions', 'lyft', 'reform', 'killer', 'batch', 'sciences', 'bats', 'circuit', 'tattoo', 'ethiopia', 'attacking', 'essentially', 'bomb', 'stimulate', 'tear', 'cont', 'depleted', 'registration', 'hd', 'curbs', 'indicates', 'unused', 'gaps', 'nicely', 'biscuits', 'william', 'contingency', 'reader', 'hon', 'shopritestores', 'entertain', 'gauge', 'sephora', 'afp', 'buddy', 'fourth', 'believing', 'lights', 'exploring', 'suspicious', 'poorest', 'hmmm', 'influencing', 'kaikohe', 'clues', 'phil', 'pattern', 'cp', 'artisanal', 'colours', 'beers', 'fijinews', 'lazy', 'civilization', 'promising', 'answering', 'papertowels', 'youre', 'chef', 'venturing', 'intend', 'yoga', 'propaganda', 'coronavirussouthafrica', 'transfers', 'absence', 'inconsiderate', 'shameless', 'advises', 'bbcbreaking', 'curfews', 'stricter', 'manitoba', 'advocate', 'drew', 'homeowners', 'obama', 'accessories', 'outdoors', 'dankmeme', 'halloween', 'inviting', 'savers', 'mistakes', 'sends', 'religion', 'frame', 'securing', 'dang', 'supplychains', 'inspiring', 'complications', 'alleged', 'warriors', 'nm', 'unchanged', 'uninsured', 'honour', 'gram', 'stephen', 'symptom', 'latin', 'counting', 'smithfield', 'largo', 'adoting', 'ayurved', 'rinse', 'profound', 'capitalize', 'pills', 'practitioners', 'utilize', 'tariff', 'accordingly', 'exams', 'eleven', 'bloke', 'analyzed', 'wth', 'wreaking', 'striking', 'thewalkingdead', 'gilead', 'rubbish', 'overview', 'odds', 'evident', 'climatechange', 'litter', 'onions', 'chapter', 'windsor', 'dedication', 'adoption', 'alabama', 'alternate', 'quietly', 'reselling', 'hack', 'monster', 'horrendous', 'upto', 'embrace', 'importing', 'goldman', 'plays', 'bravo', 'beloved', 'likelihood', 'billionaire', 'uncharted', 'cocaine', 'terminal', 'thinkofothers', 'stressing', 'bum', 'flyers', 'riyadh', 'cop', 'pig', 'electronic', 'vat', 'riot', 'pacp', 'footage', 'vuitton', 'impressive', 'floods', 'travelers', 'staring', 'piles', 'limitations', 'tale', 'arrives', 'broader', 'prince', 'morgan', 'awhile', 'entertained', 'demonstrates', 'subscriptions', 'bouncing', 'hordes', 'cage', 'relations', 'securities', 'lease', 'troubled', 'rack', 'nordstrom', 'spark', 'partnering', 'daddy', 'directions', 'baggers', 'drought', 'supermarketsweep', 'livelihood', 'simulation', 'mena', 'weighing', 'diego', 'venues', 'undocumented', 'principal', 'wereallinthistogether', 'congratulations', 'calculated', 'entity', 'chevron', 'hotspots', 'hyd', 'jamie', 'manner', 'appalled', 'ted', 'dontbeaspreader', 'prohibits', 'senatorloeffler', 'epa', 'minus', 'emissions', 'ages', 'columbia', 'northeast', 'nov', 'fires', 'mandate', 'tie', 'arkansas', 'km', 'define', 'keepers', 'indialockdown', 'dia', 'alliance', 'continuity', 'beard', 'boosts', 'chinesecoronavirus', 'sandwiches', 'taped', 'riders', 'uni', 'miracle', 'bizarre', 'docs', 'male', 'licences', 'branches', 'oils', 'clown', 'licensed', 'initially', 'disastrous', 'hassle', 'nl', 'harry', 'pti', 'seized', 'bye', 'phe', 'swan', 'sterling', 'demanded', 'rides', 'bean', 'goodnews', 'seats', 'pledged', 'loot', 'bids', 'russians', 'mexican', 'recognised', 'petrolprice', 'stayathomeorder', 'recommending', 'automated', 'journeys', 'badge', 'sandwich', 'doubles', 'authorized', 'floating', 'coronavirusitaly', 'weigh', 'flex', 'markers', 'sheffield', 'goodbye', 'delaying', 'zambia', 'brewery', 'linger', 'slim', 'reschedule', 'married', 'engineer', 'cancels', 'imo', 'jacindaardern', 'pint', 'proportion', 'yeg', 'mayorofla', 'gradually', 'column', 'conducting', 'inbox', 'shielding', 'orleans', 'powered', 'newzealand', 'xmas', 'cod', 'lobby', 'chaotic', 'finnish', 'animalcrossing', 'horse', 'bekindtoeachother', 'pages', 'exporter', 'disappointing', 'inevitably', 'abandoned', 'sane', 'deployed', 'newest', 'syria', 'dems', 'label', 'pleading', 'bunny', 'relies', 'reps', 'brutal', 'ff', 'transparent', 'prompting', 'exercising', 'screaming', 'stockmarketcrash', 'horizon', 'mg', 'jane', 'applicable', 'victory', 'computers', 'veggie', 'clever', 'yelp', 'warehousing', 'rumors', 'socks', 'applying', 'monopoly', 'pivoted', 'jeffreestar', 'currencies', 'directives', 'decides', 'webinars', 'markings', 'aluminium', 'burr', 'grandmother', 'informative', 'celebrated', 'cigarette', 'intensified', 'aaa', 'trumps', 'tees', 'fooddelivery', 'crimes', 'devil', 'meyer', 'excessively', 'exposes', 'marketer', 'memory', 'mustard', 'poised', 'theatre', 'jam', 'stretch', 'fearing', 'agenda', 'nt', 'tops', 'incentive', 'orlando', 'fi', 'arse', 'mistake', 'accountability', 'flyer', 'beating', 'fragility', 'stimuluspackage', 'sacrificing', 'glimpse', 'appointments', 'bites', 'chinaliedpeopledied', 'denial', 'gld', 'rallying', 'recording', 'pigs', 'mayhem', 'indication', 'develops', 'gr', 'hmu', 'livelihoods', 'dal', 'etiquette', 'safeguards', 'toss', 'winery', 'ripoff', 'meaningful', 'slams', 'chip', 'wicked', 'excise', 'coronapandemic', 'competitors', 'pity', 'generate', 'theirs', 'unfortunate', 'uhuru', 'denying', 'louisiana', 'split', 'vary', 'belief', 'annoyed', 'clueless', 'hobby', 'peanut', 'bailing', 'audio', 'accommodate', 'familiar', 'imperative', 'mitigation', 'borrowing', 'mama', 'lebanon', 'title', 'discriminate', 'ugandans', 'accidental', 'buttons', 'encountered', 'equities', 'organize', 'lobbying', 'touches', 'clears', 'spiked', 'citing', 'busier', 'yorkshire', 'sponsored', 'bull', 'fried', 'yomequedoencasa', 'lawyer', 'salad', 'legally', 'bridge', 'mfs', 'furious', 'declaring', 'medically', 'birmingham', 'swing', 'reserving', 'freezing', 'rbc', 'wwe', 'bangalore', 'consultant', 'regulating', 'android', 'covidontario', 'confronted', 'branding', 'beaten', 'selfless', 'graphic', 'actress', 'freak', 'religious', 'freely', 'kerala', 'mountain', 'porters', 'residence', 'climb', 'resale', 'planners', 'borrow', 'compound', 'soda', 'servants', 'practiced', 'kicking', 'moronic', 'lisa', 'gaining', 'respite', 'directing', 'offs', 'mortality', 'crashes', 'rout', 'slides', 'scumbags', 'bbl', 'chronic', 'gouge', 'researching', 'provinces', 'brewing', 'distances', 'backbone', 'predicting', 'apocalyptic', 'laying', 'salman', 'imminent', 'aiming', 'federation', 'copd', 'shoe', 'acceptance', 'dynamic', 'lawyers', 'nbc', 'catering', 'dave', 'loves', 'escalate', 'ja', 'christianity', 'honorable', 'adjusts', 'homedepot', 'portugal', 'circulating', 'chase', 'coronavirustruth', 'clapforcarers', 'edmonton', 'deploy', 'stringent', 'allegations', 'strengthen', 'republic', 'meijer', 'biden', 'lime', 'consumerconfidence', 'coronaindia', 'togetherathome', 'rocket', 'disappeared', 'bumping', 'flaws', 'violated', 'contractions', 'clapforkeyworkers', 'wearamask', 'canonforcommunity', 'profitable', 'peterpsquare', 'ilorin', 'underground', 'tonne', 'subscribe', 'kiss', 'files', 'communicating', 'airbnb', 'fg', 'coke', 'spotlight', 'corporates', 'denver', 'eurozone', 'hy', 'demographic', 'tempted', 'caresact', 'slips', 'restoring', 'fri', 'overpriced', 'enhance', 'deborah', 'royalmail', 'promises', 'pour', 'oversight', 'teamed', 'fisher', 'fluid', 'weston', 'domino', 'inundated', 'prescribed', 'bilbrough', 'dublin', 'dye', 'seemingly', 'sides', 'abundance', 'hustle', 'capable', 'financing', 'designation', 'mcconnell', 'stares', 'shaking', 'bets', 'aliens', 'riding', 'madrid', 'discipline', 'sixfeetapart', 'faq', 'rating', 'journalism', 'jantacurfew', 'minority', 'settled', 'nick', 'tricks', 'nessel', 'expenditure', 'resolve', 'publishers', 'capping', 'hook', 'perform', 'assisting', 'ffp', 'singh', 'debbie', 'clinics', 'pulp', 'emphasis', 'loop', 'adam', 'ranging', 'wen', 'applause', 'bogroll', 'unleaded', 'twin', 'outcome', 'edibles', 'convert', 'memories', 'saliva', 'turkish', 'discovering', 'engineers', 'learnings', 'journalist', 'outs', 'uniform', 'staggered', 'defer', 'firing', 'suppress', 'abundant', 'shouted', 'foreclosures', 'disrupting', 'thx', 'tray', 'recruitment', 'triggers', 'charles', 'nah', 'explosion', 'kenney', 'rings', 'disinfected', 'quarentine', 'titles', 'municipal', 'surrey', 'ang', 'treasury', 'river', 'ink', 'par', 'focuses', 'pressuring', 'diagnostic', 'reforms', 'wines', 'ubi', 'dominance', 'encounter', 'vacuum', 'magic', 'martinslewis', 'sm', 'elevator', 'parade', 'manhattan', 'lemons', 'poo', 'sued', 'insecure', 'pens', 'insisted', 'residentevil', 'sunglasses', 'ridiculously', 'makro', 'obtain', 'chamber', 'nationally', 'predatory', 'conservative', 'evolves', 'billing', 'influencers', 'scammed', 'toddler', 'butt', 'dodging', 'wondered', 'sheeple', 'retailing', 'spaced', 'deflation', 'lauren', 'immoral', 'maintained', 'moms', 'bowl', 'mechanism', 'chinaliedandpeopledied', 'sue', 'discard', 'daughters', 'deny', 'liter', 'sisters', 'intelligent', 'blamed', 'filing', 'fiction', 'blogs', 'balcony', 'spokesperson', 'turnover', 'sporting', 'participants', 'fuckers', 'indicate', 'outstanding', 'tension', 'shrink', 'dmv', 'usatoday', 'productivity', 'cfo', 'shelteringinplace', 'negotiate', 'christchurch', 'coronavirusinsouthafrica', 'bootsuk', 'altogether', 'mentally', 'beats', 'coronovirus', 'earrings', 'kent', 'positivity', 'unstable', 'luzon', 'jared', 'trajectory', 'defining', 'sweden', 'humour', 'liberal', 'giantfood', 'everytime', 'ensures', 'jamaica', 'wrap', 'blown', 'economiccrisis', 'principles', 'toiletpaperwars', 'wandering', 'dodge', 'closest', 'formed', 'posing', 'telanganacmo', 'holes', 'oxygen', 'radius', 'immigration', 'localbusiness', 'checkers', 'asians', 'listened', 'luxembourg', 'recognizing', 'plates', 'liberals', 'supporters', 'mypov', 'kumar', 'dignity', 'wireless', 'murder', 'releasing', 'prioritising', 'schoolclosuresuk', 'separation', 'hazmat', 'dual', 'ncdcgov', 'ccpvirus', 'thai', 'scientist', 'politician', 'gathered', 'margin', 'pharmacist', 'gut', 'footfall', 'advent', 'discrimination', 'decreasing', 'fantasy', 'loud', 'occurs', 'surgery', 'coordinated', 'void', 'highriskcovid', 'greeted', 'harms', 'ore', 'trap', 'ports', 'collectively', 'saveonfoods', 'shortly', 'consistently', 'keepcalm', 'snake', 'coronastopkarona', 'drfauci', 'chosen', 'globaldata', 'workplaces', 'gels', 'dowjones', 'jaketapper', 'costly', 'forgetting', 'ecb', 'rv', 'cleans', 'dominos', 'salvation', 'toiletrollchallenge', 'dms', 'generic', 'wwg', 'waterstones', 'qatarairways', 'popularity', 'retweeet', 'hesitate', 'shining', 'ignite', 'rainbow', 'colors', 'writer', 'tier', 'acute', 'touted', 'coopuk', 'simultaneously', 'reassured', 'ty', 'diagnosis', 'slipped', 'montana', 'prolonged', 'introduces', 'cycling', 'hardworking', 'nan', 'distinct', 'leaning', 'ht', 'dot', 'int', 'ceiling', 'hypocrisy', 'pensions', 'il', 'cv', 'bil', 'hum', 'treasure', 'smells', 'noise', 'susan', 'washes', 'pulls', 'prompt', 'basement', 'diapers', 'marketwatch', 'fundamentally', 'stew', 'happily', 'cooperate', 'animation', 'diamonds', 'museums', 'mla', 'daunt', 'essay', 'virologist', 'disposal', 'shoponline', 'desire', 'vile', 'coworker', 'dynata', 'viable', 'tesla', 'malaysialockdown', 'tall', 'govinslee', 'commercials', 'achieved', 'sears', 'consecutive', 'joseph', 'dotherightthing', 'pretend', 'avg', 'peaks', 'staffed', 'ev', 'mums', 'hugs', 'aircanada', 'branded', 'adelaide', 'banana', 'staypositive', 'sri', 'selfishpeople', 'codvid', 'delighted', 'touchscreens', 'recessions', 'lands', 'disproportionately', 'yelling', 'pp', 'camps', 'detention', 'silent', 'cluster', 'anonymous', 'aspect', 'tw', 'compulsory', 'yields', 'withstand', 'newjersey', 'mentions', 'vision', 'tens', 'speculation', 'reflection', 'replenished', 'ei', 'braving', 'cpi', 'worsening', 'amen', 'delta', 'aunt', 'fundamentals', 'irgc', 'charlotte', 'assessing', 'voters', 'detection', 'replaced', 'shaken', 'lockdownaustralia', 'hhs', 'harris', 'homedelivery', 'adequately', 'trumppandemic', 'cab', 'critically', 'weekends', 'crushes', 'oriented', 'togetherapart', 'profitability', 'forrester', 'emailed', 'ne', 'mint', 'enterprises', 'songs', 'bold', 'league', 'ns', 'outta', 'bearish', 'gmt', 'coimbatore', 'upping', 'massgovernor', 'moon', 'settings', 'bidets', 'ive', 'punjab', 'poisoning', 'worsen', 'violations', 'infused', 'landlord', 'refrigeration', 'brink', 'algeria', 'ranks', 'invisible', 'ss', 'prioritized', 'flooded', 'sindh', 'warming', 'wwd', 'saturated', 'allies', 'versions', 'savvy', 'uncle', 'fancy', 'du', 'degrees', 'forth', 'stole', 'cup', 'welp', 'crunch', 'islands', 'threshold', 'kim', 'components', 'nfl', 'nets', 'sincerely', 'exceptions', 'turbulent', 'pilling', 'favour', 'invited', 'israeli', 'mil', 'swiftly', 'practically', 'convince', 'reset', 'rocketing', 'excuses', 'bopinion', 'scan', 'trumppressconference', 'licence', 'blessing', 'comedian', 'appetite', 'congrats', 'scrap', 'lookout', 'swell', 'regret', 'wv', 'seating', 'federalreserve', 'esg', 'brampton', 'sanders', 'mates', 'techs', 'patanjali', 'highway', 'thieves', 'exploited', 'greeter', 'polling', 'kashmir', 'loeffler', 'fleeing', 'brains', 'um', 'gps', 'restore', 'sos', 'occurring', 'ramifications', 'shots', 'iron', 'spglobalplatts', 'teenager', 'adobe', 'considerations', 'tone', 'emi', 'wmt', 'township', 'bibliographies', 'annotated', 'labreports', 'doubts', 'inconvenience', 'tuckercarlson', 'chewy', 'reduceinternetprices', 'disinformation', 'skimming', 'travellers', 'amazonfresh', 'coronalockdownuk', 'sovereign', 'influenza', 'painful', 'amend', 'fijians', 'grandparent', 'dirt', 'tvs', 'auctions', 'consumerrights', 'recognition', 'safeguarding', 'aaron', 'medicaid', 'upstream', 'sunbathing', 'hammered', 'yield', 'skyrockets', 'holder', 'realtime', 'venezuelan', 'instantly', 'tours', 'tanking', 'exporters', 'caribbean', 'overrun', 'dat', 'pitch', 'lined', 'mercy', 'credits', 'enables', 'scrambles', 'fortunately', 'bengal', 'anna', 'tribute', 'hundred', 'recovers', 'anxieties', 'cheer', 'soo', 'grim', 'featured', 'notices', 'inter', 'lo', 'matthew', 'taskforce', 'grave', 'beside', 'andme', 'lacs', 'turnip', 'fbcnews', 'wena', 'deferrals', 'austerity', 'threeuk', 'incarcerated', 'imposter', 'steak', 'nitrile', 'pickers', 'pipe', 'ahmed', 'guinea', 'bargains', 'varying', 'ipa', 'tower', 'bucks', 'tortillas', 'fairprice', 'yaffebellany', 'customerservice', 'concerts', 'expense', 'thriving', 'satire', 'trevornoah', 'sn', 'prosecute', 'pickups', 'homework', 'cloths', 'stone', 'healthier', 'medtwitter', 'jimcramer', 'visual', 'connectivity', 'cagovernor', 'tradition', 'sanitise', 'doorsteps', 'disorder', 'skyhelpteam', 'shutoffs', 'deserted', 'effecting', 'argentina', 'memo', 'courts', 'understands', 'abiding', 'monitors', 'govsisolak', 'jumia', 'asx', 'tighter', 'ac', 'trumpmeltdown', 'yyc', 'environments', 'vibe', 'malawi', 'antiseptic', 'sentiments', 'substitutes', 'freaked', 'choosing', 'maps', 'ctsi', 'hugging', 'preventative', 'lifesaving', 'ut', 'frustrated', 'nevada', 'staythefuckhome', 'richmond', 'expertise', 'goddamn', 'savelives', 'casino', 'coronatime', 'aggressively', 'discourage', 'vee', 'assam', 'grass', 'santa', 'workouts', 'ko', 'neck', 'pleas', 'diabetic', 'vladimir', 'pple', 'spencer', 'algorithms', 'bcoz', 'endangering', 'repurposed', 'weakness', 'krg', 'accident', 'comeback', 'unpredictable', 'antibodies', 'http', 'coombs', 'attempted', 'shortfall', 'para', 'loaves', 'advisors', 'mol', 'todo', 'cells', 'animalcrossingnewhorizons', 'payers', 'campbell', 'scammer', 'ctvnews', 'cracks', 'nintendo', 'essentialservices', 'doesnt', 'garylineker', 'disregard', 'cor', 'heights', 'healthcareheroes', 'ndtv', 'balls', 'eased', 'saver', 'madison', 'regain', 'apartments', 'aldiusa', 'settles', 'traderjoes', 'migrants', 'measured', 'ta', 'intense', 'chick', 'dec', 'newworldorder', 'incidents', 'shoppingonline', 'txlege', 'commits', 'scanner', 'sikh', 'makeshift', 'spices', 'fluctuations', 'shud', 'distributor', 'morale', 'arrests', 'exceptional', 'hannaford', 'heat', 'cocoa', 'autoimmune', 'taiwan', 'teamwork', 'ammunition', 'traveled', 'foresee', 'gta', 'marketresearch', 'dth', 'speaker', 'bankruptcies', 'weareallinthistogether', 'acc', 'res', 'graduate', 'henry', 'libya', 'semiconductor', 'festival', 'bankofamerica', 'oblivious', 'haircut', 'argues', 'certificates', 'feared', 'baseball', 'trillions', 'abusive', 'rwandans', 'tel', 'ghanaian', 'boxing', 'cinemas', 'breeding', 'browns', 'lone', 'advisor', 'dj', 'pleasantly', 'barcelona', 'guelph', 'author', 'taylor', 'coviduk', 'dentists', 'scrutiny', 'agrees', 'attract', 'ryan', 'gofundme', 'sorting', 'radical', 'nearing', 'leeds', 'borough', 'actor', 'tripling', 'rewe', 'realtors', 'tide', 'lethal', 'elonmusk', 'blitz', 'bob', 'demo', 'wakeup', 'tr', 'upheaval', 'ics', 'classy', 'hay', 'cargill', 'coronapandemie', 'amazonsmile', 'shutter', 'allen', 'experiment', 'invoke', 'dakota', 'defraud', 'efficiently', 'ear', 'refrigerators', 'bopis', 'diligently', 'remedies', 'blank', 'ears', 'vultures', 'defective', 'emotionally', 'covidbc', 'supporter', 'inches', 'pictured', 'obsession', 'fbi', 'vaccinations', 'prepayment', 'constraints', 'laboratories', 'cornavirusoutbreak', 'vastly', 'girlfriend', 'foodshortage', 'expectation', 'conquer', 'craze', 'irrational', 'emailing', 'coalition', 'skincare', 'grips', 'cl', 'biotech', 'philippine', 'cabin', 'arguments', 'instruction', 'piano', 'cu', 'dprinting', 'heroic', 'forty', 'ulta', 'salons', 'dare', 'menards', 'considerably', 'porch', 'sem', 'cking', 'soldout', 'miserable', 'hunter', 'clippers', 'digitally', 'improving', 'sanfrancisco', 'nancy', 'approaching', 'pan', 'uneducated', 'sorted', 'renewables', 'sto', 'shanghai', 'verge', 'elder', 'unforeseen', 'violation', 'confront', 'scratch', 'fuckwits', 'greg', 'savages', 'deciding', 'aud', 'proxy', 'burning', 'cape', 'grappling', 'installment', 'tanzania', 'sanctuary', 'rampant', 'coronavirusnigeria', 'nhsengland', 'pun', 'finishing', 'solar', 'taxpayer', 'prognosis', 'govlarryhogan', 'filters', 'receipts', 'ruin', 'mtnng', 'yay', 'fought', 'bitches', 'joints', 'oilsands', 'barometer', 'nicer', 'unethical', 'nifty', 'hyvee', 'manufactures', 'suffers', 'retreats', 'mayoroflondon', 'onlinemarketing', 'frantic', 'scanning', 'wembley', 'speakers', 'inflicted', 'speedy', 'graph', 'stack', 'belfast', 'handsanitiser', 'ind', 'pessimism', 'heartless', 'cocktail', 'diagnose', 'fate', 'metalminer', 'sacramento', 'insolvency', 'ben', 'milan', 'renters', 'handmade', 'ratio', 'herbs', 'dontpanicbuy', 'interrupted', 'error', 'overreacting', 'olds', 'stateofemergency', 'provincial', 'moci', 'basketball', 'mondaymood', 'mondaymotivaton', 'jackson', 'careers', 'spraying', 'seasons', 'disappointment', 'goodwill', 'qe', 'easyuk', 'covoid', 'telcos', 'mongering', 'momlife', 'integrity', 'hints', 'coronavirusinkenya', 'roses', 'stabilise', 'master', 'nhsthankyou', 'escalating', 'brothers', 'jhootspharmacy', 'origin', 'occasion', 'desert', 'pleaded', 'relaxing', 'mayors', 'surrounded', 'conversations', 'sardines', 'durables', 'shopify', 'activated', 'shelve', 'graham', 'respirator', 'selfemployed', 'warren', 'bolster', 'shouting', 'thursdaymotivation', 'wolf', 'moisturizing', 'portions', 'bake', 'tpshortage', 'theage', 'gross', 'submitted', 'schooling', 'mondaymorning', 'cruises', 'swift', 'austria', 'gloom', 'disrupts', 'raging', 'paranoia', 'meltdown', 'instore', 'passenger', 'login', 'swedish', 'quarantinecats', 'ought', 'tescos', 'peril', 'restored', 'ipsos', 'bollocks', 'cheeks', 'droves', 'invented', 'hired', 'engineering', 'jeremycorbyn', 'te', 'ani', 'govrondesantis', 'debts', 'educated', 'ebola', 'cd', 'checkerssa', 'memorial', 'bathrooms', 'salem', 'remake', 'ye', 'nationals', 'statements', 'lessen', 'flushing', 'djia', 'toy', 'stuffed', 'amazonin', 'veteran', 'protectyourself', 'africans', 'rig', 'simpler', 'dependence', 'antitrust', 'attractive', 'resign', 'aramco', 'darkness', 'childhood', 'lockdownlondon', 'lockdownsouthafrica', 'lobster', 'salon', 'nairobi', 'abide', 'behaved', 'stresses', 'fifth', 'assault', 'geared', 'renewable', 'prisons', 'accuracy', 'extras', 'stopandshop', 'rocked', 'affluent', 'spgmarketintel', 'worsens', 'soooo', 'faring', 'ccpa', 'pill', 'bristol', 'evicted', 'anheuser', 'pleads', 'drain', 'swimming', 'gc', 'boring', 'bakers', 'cautions', 'der', 'vid', 'imagined', 'saint', 'understandable', 'worsened', 'legend', 'hamburger', 'twat', 'sd', 'thier', 'advertisers', 'frustration', 'represents', 'sunny', 'niece', 'smartphones', 'operates', 'seekers', 'mere', 'chasing', 'ralph', 'contraction', 'halting', 'stpatricksday', 'spice', 'wisely', 'paswan', 'accommodations', 'amy', 'governorva', 'dime', 'franchise', 'reopened', 'sing', 'scamalert', 'cunt', 'ron', 'faculty', 'yummy', 'authors', 'sausage', 'bharat', 'govmikedewine', 'frankly', 'suitable', 'panama', 'debenhams', 'bazar', 'betting', 'slice', 'squares', 'ebook', 'realjameswoods', 'angels', 'manners', 'stickers', 'alaska', 'conferences', 'ch', 'screamed', 'voteblue', 'orderly', 'recognise', 'tend', 'yard', 'insure', 'alan', 'argument', 'throws', 'spends', 'idle', 'earnest', 'marketplaces', 'describes', 'donaldtrump', 'pcs', 'bakeries', 'fortune', 'catastrophe', 'recognized', 'handful', 'smes', 'hype', 'panick', 'gouged', 'jidesanwoolu', 'coordination', 'arthritis', 'giveaway', 'docks', 'ditch', 'telangana', 'stat', 'auckland', 'luke', 'virtue', 'targets', 'webcast', 'altering', 'cries', 'curbed', 'karachi', 'advisories', 'heist', 'sponsor', 'orgs', 'metrics', 'communism', 'rarely', 'tracks', 'easterweekend', 'problematic', 'stayhomesavelifes', 'scarsdale', 'jimmy', 'ios', 'isolationlife', 'lens', 'mylan', 'originally', 'resell', 'coronavirusinnigeria', 'adviser', 'amazed', 'medal', 'havent', 'terribly', 'andrex', 'establish', 'palm', 'unwanted', 'hacks', 'lighting', 'tunnel', 'adverse', 'lawn', 'unruly', 'waiver', 'suppresses', 'prohibited', 'administrative', 'newspaper', 'resiliency', 'haram', 'quaratineandchill', 'stomach', 'invaluable', 'helpingothers', 'traded', 'encouragement', 'santizer', 'invade', 'riverside', 'shakes', 'heaven', 'loonie', 'tweeps', 'bpd', 'feud', 'stagnant', 'rewrote', 'irs', 'boc', 'lightly', 'monica', 'mrjamesob', 'absent', 'blatant', 'reverse', 'shite', 'makemytrip', 'cartels', 'restart', 'brighton', 'applauded', 'mcorkery', 'chan', 'dha', 'console', 'preying', 'protectthevulnerable', 'chefs', 'coronafighters', 'voluntarily', 'sterilize', 'coronaviruscrisis', 'busiest', 'obligation', 'continental', 'explodes', 'filtration', 'withdraws', 'ifpri', 'vunerable', 'guilt', 'pritzker', 'cspanwj', 'motorists', 'baltimore', 'connecticut', 'heels', 'keen', 'metric', 'crushing', 'frightened', 'emt', 'weary', 'samsclub', 'blessings', 'barr', 'rallied', 'nails', 'dictate', 'fisheries', 'revoked', 'interstate', 'defence', 'chop', 'gig', 'auchan', 'ubs', 'pops', 'oversold', 'unseen', 'societal', 'merchant', 'tackled', 'shaky', 'fury', 'studio', 'stockpiles', 'academic', 'unreasonable', 'voluntary', 'roy', 'deteriorating', 'maids', 'infuriating', 'survivors', 'shielded', 'nameandshame', 'jharkhand', 'pete', 'anthony', 'freedoms', 'converting', 'ham', 'veterans', 'attacked', 'hv', 'separately', 'offerings', 'globalpandemic', 'disagree', 'dose', 'spur', 'tricky', 'rebounds', 'muffins', 'capes', 'ken', 'presentation', 'upended', 'gf', 'euets', 'repayment', 'consulting', 'supervalu', 'shelfs', 'glance', 'manages', 'sw', 'chemistry', 'smokers', 'mufc', 'xbox', 'unpack', 'consumergoods', 'toothpaste', 'degree', 'favorites', 'drunk', 'comms', 'peddling', 'licks', 'voices', 'emma', 'oshawa', 'southeast', 'socialcare', 'sbs', 'credible', 'peterborough', 'louder', 'chatter', 'tht', 'landed', 'dashboard', 'drying', 'posters', 'hotspot', 'downgrade', 'criticism', 'reconsider', 'overbuying', 'framework', 'obsessed', 'bbq', 'belongs', 'holed', 'unfold', 'swipe', 'reversed', 'spurs', 'thu', 'distilledspirit', 'laborers', 'accessibility', 'dove', 'grandpa', 'holidaymakers', 'capitalists', 'deem', 'strips', 'oc', 'bang', 'supreme', 'livestream', 'belgian', 'blossom', 'subscriber', 'whichuk', 'surgeon', 'pastor', 'essex', 'idiocy', 'rio', 'gfc', 'troubling', 'jose', 'billgates', 'saturdays', 'coordinate', 'coronavirusitalianews', 'businessmen', 'mixing', 'expendable', 'pushback', 'scrub', 'cad', 'pakistani', 'prevail', 'enroll', 'jagograhakjago', 'background', 'rotting', 'persist', 'coin', 'grind', 'smoothly', 'input', 'lengths', 'deflationary', 'generational', 'agric', 'grocerydelivery', 'parker', 'transmit', 'vector', 'disparity', 'mu', 'scarves', 'vinyl', 'changer', 'uninterrupted', 'hemantsorenjmm', 'forest', 'everly', 'sausages', 'shopee', 'embarrassing', 'prod', 'itc', 'freelancers', 'undoubtedly', 'periods', 'transplant', 'liver', 'intel', 'idiotic', 'tbh', 'scoop', 'wand', 'yup', 'lockdownsa', 'mia', 'chad', 'mechanisms', 'famine', 'liters', 'sterilizer', 'labeled', 'wga', 'boosted', 'patent', 'prize', 'lunchtime', 'edit', 'multiply', 'mrs', 'horrifying', 'quarters', 'jk', 'penguin', 'ep', 'frontlineheroes', 'harsh', 'viewers', 'taobao', 'mancity', 'concessional', 'harold', 'theellenshow', 'ra', 'mishra', 'prepping', 'acquiring', 'themed', 'messing', 'blues', 'psychological', 'essence', 'subsidies', 'platinum', 'tofu', 'ghanaians', 'purse', 'casual', 'casinos', 'businessowner', 'ppeshortage', 'blew', 'withdraw', 'allocate', 'frank', 'bookmark', 'wider', 'cleanse', 'hazardous', 'pizzas', 'navy', 'za', 'ties', 'penn', 'yoursafetyismysafety', 'siblings', 'ol', 'geopolitical', 'align', 'diff', 'europeans', 'effectiveness', 'cbcnews', 'pandemonium', 'contrary', 'govwhitmer', 'queing', 'clash', 'knocking', 'fry', 'santizers', 'husbands', 'abhabhattarai', 'dent', 'punishing', 'audiences', 'ssi', 'lax', 'selves', 'secured', 'homelessness', 'sore', 'liberty', 'chronicles', 'heed', 'yougov', 'foreclosure', 'eradicate', 'overly', 'iv', 'occupied', 'eric', 'conditioned', 'documented', 'heartwarming', 'craig', 'northam', 'rife', 'totallockdown', 'flagship', 'democracy', 'fluctuate', 'aides', 'wears', 'assumptions', 'breaker', 'invested', 'revive', 'intensify', 'hamilton', 'disneyland', 'shorter', 'mco', 'statutory', 'appearance', 'generosity', 'sneak', 'cdt', 'tipped', 'agbecerra', 'empire', 'demise', 'travels', 'exemptions', 'newsalert', 'indonesian', 'malaysian', 'districts', 'considerable', 'thermal', 'capture', 'covididiot', 'teeth', 'houseprices', 'mtnza', 'bbcworld', 'refugee', 'scaring', 'donaldjtrumpjr', 'anthonymace', 'oilpatch', 'ruined', 'laguna', 'os', 'identifying', 'overstock', 'cups', 'mill', 'saves', 'sauces', 'uncomfortable', 'neworleans', 'replies', 'obamacare', 'mvp', 'playstation', 'broccoli', 'lancashire', 'supposedly', 'nikki', 'superior', 'drains', 'rupees', 'maria', 'nicolasturgeon', 'buckwheat', 'tsunami', 'omfg', 'contaminating', 'donuts', 'ryanair', 'jar', 'catchup', 'hk', 'outreach', 'cdnecon', 'mines', 'kwh', 'professions', 'default', 'ali', 'wagers', 'quid', 'chats', 'squirt', 'female', 'punish', 'exacerbate', 'montreal', 'anilsinghvi', 'lengthy', 'shes', 'lit', 'ms', 'dhscgovuk', 'ralphs', 'ecological', 'hog', 'tuesdays', 'smo', 'preliminary', 'scheduling', 'lip', 'spreaker', 'vlog', 'boomer', 'madmax', 'daca', 'boycottsportsdirect', 'pummeled', 'narendra', 'petrochemicals', 'postage', 'ineffective', 'conclusion', 'blanket', 'criteria', 'nstnation', 'comp', 'captain', 'interrupt', 'demonstrating', 'refinery', 'lockout', 'modelling', 'peaceful', 'feds', 'ski', 'sourced', 'attendant', 'ka', 'carlos', 'toast', 'proposing', 'correlation', 'unprotected', 'earners', 'trinidad', 'nh', 'propping', 'covidactnow', 'consultation', 'msg', 'presses', 'maxwell', 'phosphate', 'staysafeug', 'aapl', 'eager', 'cf', 'arses', 'resellers', 'votes', 'upgrading', 'dean', 'bcs', 'spotify', 'boxed', 'metpoliceuk', 'forbearance', 'comparison', 'remoteworking', 'props', 'flushable', 'evans', 'officeofut', 'modest', 'sits', 'teenage', 'inhumane', 'teaches', 'droplet', 'adventures', 'escalated', 'newday', 'additionally', 'advantages', 'unveils', 'qantas', 'germans', 'ivankatrump', 'bahrain', 'deaf', 'mentioning', 'nasdaq', 'refrigerator', 'unclear', 'tweaking', 'ding', 'interacting', 'realities', 'businessnews', 'grounded', 'sth', 'dampen', 'digitaltransformation', 'legends', 'councils', 'safehands', 'bargaining', 'yvr', 'weareinthistogether', 'consult', 'yearly', 'rotorua', 'napa', 'curry', 'cheering', 'purely', 'rwandatrade', 'vilas', 'nepal', 'cabinfever', 'throng', 'ge', 'remarkable', 'limbo', 'albert', 'terrorist', 'stretched', 'notify', 'fairer', 'capabilities', 'forecasting', 'newyorkstateag', 'reshape', 'precarious', 'bulkbuying', 'subway', 'verified', 'govevers', 'triggering', 'generating', 'londoners', 'hancock', 'activist', 'strains', 'weakening', 'overcoming', 'sportsdirectuk', 'morgue', 'bug', 'surveillance', 'waitlist', 'pi', 'delicate', 'peers', 'patrol', 'policemen', 'upgrade', 'shitting', 'pedestrian', 'alleging', 'flout', 'cornell', 'draw', 'consistency', 'stacked', 'bubbles', 'presidencyza', 'vons', 'airways', 'antiviral', 'resumes', 'hysterical', 'quadrupled', 'cheque', 'tri', 'worrisome', 'paramedic', 'involve', 'operated', 'naija', 'washhands', 'cartons', 'doordash', 'arsehole', 'inhaler', 'nephew', 'imposing', 'gregabbott', 'overworked', 'carter', 'acquire', 'coma', 'bruce', 'grey', 'phases', 'academy', 'tradingstandards', 'populated', 'smashed', 'explanation', 'revoke', 'establishment', 'nuclear', 'spurred', 'nigel', 'mintel', 'oyo', 'govofco', 'cast', 'cabinets', 'peaked', 'unprepared', 'tempting', 'smallbiz', 'independently', 'abs', 'bayarea', 'moderate', 'propylene', 'trumppressconf', 'captify', 'permit', 'shorten', 'rumor', 'vertical', 'awkward', 'proudly', 'iot', 'globalization', 'cspi', 'beneath', 'romance', 'recycled', 'policing', 'ems', 'parked', 'dickheads', 'praises', 'echo', 'bbcpolitics', 'bullet', 'matched', 'patch', 'carer', 'resolved', 'unsure', 'kiwis', 'accountable', 'regina', 'diversify', 'pros', 'positioned', 'compiling', 'jus', 'negotiated', 'tb', 'investigates', 'vaping', 'perceived', 'anticipating', 'leo', 'migration', 'revealing', 'hudson', 'ravages', 'cuban', 'edinburgh', 'vox', 'saharan', 'thirds', 'aussies', 'behavioural', 'internationaldayofhappiness', 'asthmatic', 'barter', 'preview', 'happiness', 'huntsman', 'clapforthenhs', 'cleansing', 'counterfeit', 'cnbctv', 'breast', 'myth', 'shoulders', 'cornoravirusuk', 'xx', 'festivals', 'culinary', 'propertymarket', 'ftse', 'emergence', 'experian', 'electricitymarkets', 'ins', 'independence', 'newsroom', 'norway', 'inspections', 'reputation', 'fo', 'soviet', 'weaken', 'exhausting', 'normality', 'interior', 'sl', 'liked', 'walmartcanada', 'calming', 'depleting', 'diners', 'paradox', 'foodie', 'booth', 'casually', 'ness', 'projections', 'unusually', 'sliding', 'eliminating', 'screwing', 'bulletin', 'postponing', 'informing', 'bath', 'dod', 'justify', 'unavoidable', 'finest', 'contributed', 'resorted', 'wil', 'preserving', 'underpaid', 'contacting', 'trace', 'roasted', 'philadelphia', 'deposits', 'maid', 'painkiller', 'comforting', 'congressional', 'liar', 'relates', 'entrepreneurs', 'kpmg', 'duck', 'eerie', 'airfare', 'vc', 'eco', 'expiration', 'disadvantaged', 'expressing', 'sooo', 'imagination', 'blast', 'representative', 'dietary', 'fortnite', 'lasvegas', 'consultancy', 'whichever', 'rachelwharton', 'prone', 'des', 'motivation', 'togetherwecan', 'centered', 'laura', 'cuny', 'vodafonegroup', 'ahmedabad', 'yikes', 'creditors', 'patrick', 'obscene', 'reasi', 'apnea', 'dole', 'negotiating', 'renewed', 'pavement', 'moredays', 'surpass', 'exxon', 'elmhurst', 'faulty', 'gdcampaigns', 'pl', 'lentils', 'nyclockdown', 'happyeaster', 'lungs', 'sterile', 'jo', 'circular', 'dated', 'miguel', 'seanhannity', 'protests', 'trumppressbriefing', 'haunt', 'kenyatta', 'samsung', 'jay', 'cereals', 'senschumer', 'awaiting', 'condemn', 'vulnerabilities', 'fucker', 'catholic', 'nursery', 'musk', 'foreigners', 'monitored', 'forefront', 'xauusd', 'rewarded', 'established', 'removes', 'gambling', 'melt', 'honored', 'ninja', 'quiroga', 'transported', 'halifax', 'parallel', 'allstate', 'markup', 'losers', 'cong', 'catapulted', 'interestingly', 'kmart', 'alter', 'naturalgas', 'swings', 'defeated', 'hcw', 'bodega', 'otc', 'keto', 'onlineclasses', 'bands', 'novartis', 'pudding', 'refuge', 'scoopit', 'pent', 'bedevils', 'recalls', 'secrecy', 'mikequindazzi', 'vending', 'easterbunny', 'kolonya', 'retaildive', 'espionage', 'affiliate', 'foodsystems', 'dnc', 'growyourown', 'crumbled', 'rapaport', 'norms', 'cerb', 'uncover', 'healthtips', 'fitch', 'lender', 'lilly', 'foodprices', 'pmi', 'zoomupyourlife', 'upbeat', 'lumber', 'raymond', 'rebel', 'roulette', 'bo', 'peel', 'tele', 'socioeconomic', 'beatcovid', 'furloughing', 'reacted', 'query', 'chores', 'grabs', 'battery', 'ghee', 'telkomza', 'bipartisan', 'kurdistan', 'root', 'rains', 'hella', 'fml', 'ethereum', 'rollercoaster', 'median', 'coach', 'cultural', 'hotlines', 'undeniable', 'canadalockdown', 'batman', 'cochrane', 'dudes', 'aiding', 'challenged', 'precisely', 'undermining', 'rum', 'unbelievably', 'bothering', 'gown', 'canadacovid', 'draining', 'appointed', 'queries', 'nab', 'calockdown', 'champions', 'symptomatic', 'puertorico', 'clarke', 'renewal', 'bookstores', 'barrie', 'interviewing', 'hamptons', 'liquefied', 'wrestlemania', 'katie', 'overcrowded', 'cooperatives', 'kungflu', 'evaluation', 'arise', 'silicon', 'promotes', 'damages', 'intent', 'contributes', 'unsold', 'ruled', 'hm', 'analyse', 'dispenser', 'cybercriminals', 'idaho', 'debut', 'departments', 'siege', 'offence', 'creation', 'carnage', 'genz', 'commute', 'douglas', 'dread', 'bursting', 'ego', 'dispose', 'denies', 'scream', 'dries', 'mastercard', 'factsnotfear', 'scroll', 'batteries', 'selfishly', 'award', 'shattered', 'indigenous', 'postman', 'busted', 'motor', 'valuations', 'cauliflower', 'lb', 'catalyst', 'ttf', 'cram', 'shoved', 'capability', 'tubs', 'manual', 'circles', 'inclusive', 'midday', 'crafts', 'arts', 'heath', 'sally', 'adams', 'takeover', 'grofers', 'fil', 'bev', 'cycles', 'piers', 'wit', 'climbing', 'rioting', 'universe', 'toyota', 'tony', 'injustice', 'coronakrise', 'linings', 'infant', 'corrections', 'thismorning', 'matthewlesh', 'staysafeshoponline', 'pact', 'mosul', 'devastated', 'deterioration', 'hse', 'mince', 'trenches', 'quicktake', 'deter', 'antibiotics', 'unitedkingdom', 'senategop', 'thankfulthursday', 'roast', 'abdul', 'sometime', 'beresponsible', 'crackers', 'ic', 'libraries', 'bathandbodyworks', 'inflatable', 'distressed', 'preston', 'ada', 'benice', 'plug', 'distraction', 'jkenney', 'inflationary', 'tolerate', 'quedateencasa', 'sprint', 'almond', 'hai', 'dailymail', 'bbcwatchdog', 'dos', 'careless', 'throwbackthursday', 'occidental', 'desde', 'scooters', 'tasty', 'escalation', 'citizensadvice', 'embracing', 'homebuyers', 'transferred', 'wartime', 'museum', 'collaborate', 'drsanjaygupta', 'wardrobe', 'triage', 'campaigners', 'abrupt', 'rank', 'naps', 'doomed', 'slumps', 'ritual', 'southkorea', 'buhari', 'stayhomeaustralia', 'steven', 'stocker', 'von', 'survives', 'livid', 'klopapier', 'fifty', 'scamming', 'compassionate', 'amsterdam', 'dock', 'summit', 'ds', 'component', 'avengers', 'pinch', 'itch', 'southampton', 'sustaining', 'fork', 'coronaviru', 'borisout', 'elusive', 'invite', 'frauds', 'lucrative', 'costa', 'spinning', 'brennan', 'profited', 'mauritius', 'swamped', 'retailgazette', 'napkins', 'consumerism', 'locking', 'randpaul', 'bury', 'tgt', 'bouncers', 'streams', 'bros', 'earliest', 'exponential', 'taps', 'visibly', 'rags', 'detained', 'gran', 'websitedesign', 'smm', 'handshakes', 'cylinders', 'flourish', 'lineups', 'lasted', 'coat', 'stabilizes', 'nada', 'dominicraab', 'metlife', 'lounge', 'bj', 'appealed', 'norwegian', 'zombieland', 'quilted', 'boat', 'dial', 'storefront', 'occasions', 'heartbroken', 'distress', 'vt', 'flirting', 'loblaw', 'fcacan', 'disconnected', 'dementia', 'documents', 'dreading', 'lame', 'argued', 'boutiques', 'ga', 'fccc', 'designate', 'foil', 'leap', 'depriving', 'agreements', 'heri', 'enquiries', 'bts', 'tues', 'prediction', 'stockmarkets', 'confiscated', 'copies', 'gem', 'invasion', 'admiration', 'roaming', 'squeezed', 'presumably', 'disrespectful', 'imp', 'eventual', 'dads', 'functions', 'lakhs', 'separated', 'reviewing', 'lovers', 'firstdayofspring', 'intolerances', 'coronachainscare', 'racine', 'pat', 'pal', 'damascus', 'offenders', 'thereby', 'switches', 'messed', 'miserably', 'chronically', 'adversely', 'seize', 'diversification', 'squad', 'jnj', 'lifebuoy', 'tightly', 'literacy', 'barcode', 'taxation', 'macron', 'neighbouring', 'tryna', 'maths', 'joggers', 'polls', 'flash', 'councillor', 'nih', 'mildly', 'epicentre', 'translate', 'oxford', 'bottoms', 'supermercados', 'contra', 'citi', 'janitorial', 'resin', 'institution', 'blvd', 'keypads', 'lincoln', 'opting', 'lean', 'thrilled', 'bumped', 'optical', 'gi', 'intake', 'injection', 'angst', 'fireworks', 'justin', 'maximize', 'refill', 'kano', 'sweets', 'parasites', 'manutd', 'habra', 'saturdaymotivation', 'urine', 'cam', 'loudly', 'builders', 'zoonotic', 'leasing', 'edeka', 'dfs', 'racial', 'stubborn', 'taxis', 'dragging', 'dreaded', 'fade', 'embarrassed', 'backdrop', 'hat', 'burgers', 'supportlocalbusiness', 'stakes', 'tahini', 'indispensable', 'dhaka', 'keepsafe', 'replenishing', 'mountains', 'matatus', 'jackpot', 'postmates', 'insa', 'buylocal', 'jai', 'witham', 'monkeys', 'trumpplague', 'wrecked', 'majorly', 'californiacoronavirus', 'truckdrivers', 'writingcommunity', 'statistic', 'awake', 'pillows', 'hindered', 'etsy', 'fab', 'drilling', 'mummy', 'respective', 'visible', 'naughty', 'violent', 'publications', 'bailey', 'whomever', 'hoboken', 'hefty', 'robinsons', 'unimaginable', 'trumpliespeopledie', 'coeliac', 'outing', 'silence', 'hammering', 'parody', 'secs', 'foolish', 'easiest', 'owen', 'guides', 'overload', 'globeandmail', 'edt', 'stayconnected', 'sufferers', 'loom', 'lobbies', 'sha', 'irvine', 'tabs', 'chilling', 'segments', 'catherine', 'continually', 'congregating', 'flag', 'irl', 'september', 'firstresponders', 'tightening', 'clapforourcarers', 'crossed', 'weakens', 'radar', 'neat', 'latimes', 'implementation', 'govpritzker', 'cub', 'sip', 'dips', 'gavin', 'drums', 'desi', 'cologne', 'ingrahamangle', 'wednesdaymotivation', 'slid', 'ambassador', 'prisoners', 'afar', 'roots', 'influenced', 'dreaming', 'newcastle', 'marty', 'overreaction', 'inconvenient', 'muppets', 'representation', 'newsnight', 'sums', 'description', 'beverly', 'knight', 'menace', 'coronainmaharashtra', 'pickle', 'juliahb', 'picnic', 'horribly', 'integrated', 'conflict', 'diarrhoea', 'onwards', 'propublica', 'greenwich', 'annually', 'dancing', 'jewelosco', 'importer', 'vanpoli', 'jolly', 'si', 'unaware', 'meditation', 'reassess', 'pymnts', 'guarantees', 'maskup', 'bush', 'sewage', 'guideline', 'reviewed', 'yemen', 'oranges', 'naivas', 'dollargeneral', 'sidewalk', 'acccgovau', 'brookshire', 'deserving', 'penne', 'applauds', 'namaste', 'handgel', 'inexcusable', 'internationally', 'hampers', 'rev', 'instances', 'duncan', 'rumour', 'efficiency', 'lifts', 'penalty', 'predominantly', 'colleges', 'custard', 'basmati', 'fighter', 'emotion', 'caller', 'planes', 'jeremy', 'hs', 'housekeeping', 'gravity', 'acquisition', 'quaratine', 'transforming', 'adexchanger', 'lingering', 'maskshortage', 'croozefmnews', 'reacts', 'contractors', 'ramps', 'trustworthy', 'snapchat', 'savlon', 'vintage', 'rtenews', 'parenting', 'crisps', 'roommate', 'consoles', 'confronting', 'indiafightcorona', 'curtis', 'precedent', 'spicy', 'pride', 'aceng', 'payroll', 'fraction', 'bec', 'civilised', 'lavender', 'handshake', 'ibadan', 'pvt', 'sexy', 'creams', 'protip', 'appeals', 'unleashed', 'charter', 'fraser', 'handbag', 'erupted', 'spreaders', 'newsaus', 'croydon', 'existent', 'comrade', 'coronavirusnyc', 'remembering', 'boycotted', 'gasbuddy', 'pmmodi', 'sup', 'subsidized', 'ir', 'twitch', 'zeebusiness', 'milwaukee', 'lil', 'crippling', 'fe', 'indicator', 'coronavirustoronto', 'reuse', 'reprieve', 'papa', 'calculate', 'coronaaustralia', 'dasani', 'levity', 'harrow', 'dwnews', 'statues', 'theyre', 'troy', 'stayinghome', 'rylan', 'rosie', 'repairs', 'askdrh', 'ideally', 'presidents', 'pressing', 'canal', 'jon', 'crave', 'spacing', 'poster', 'styles', 'picks', 'horrified', 'rmb', 'mississauga', 'wey', 'simultaneous', 'starmer', 'nanny', 'condo', 'sin', 'tamil', 'junkie', 'betty', 'asparagus', 'clientele', 'mirza', 'epidemics', 'divorce', 'troubles', 'outfits', 'specialty', 'continuous', 'witch', 'equipments', 'rogers', 'wetherspoon', 'rightfully', 'protectionism', 'trickle', 'destroys', 'understood', 'spared', 'pressured', 'po', 'passwords', 'tpci', 'bsybjp', 'jimmyfallon', 'sticker', 'npdgroup', 'lion', 'fart', 'inspection', 'drank', 'rex', 'carol', 'voter', 'bundle', 'forming', 'bumper', 'lockdownnz', 'healing', 'mis', 'acct', 'nailed', 'rocketed', 'tbt', 'theories', 'doj', 'defensive', 'saveworkers', 'superstar', 'briefly', 'cons', 'dots', 'sept', 'ransom', 'establishes', 'harassing', 'tranquileyes', 'covod', 'jammu', 'hires', 'referring', 'bothered', 'enrollment', 'boeing', 'profiles', 'plumbing', 'kazakhstan', 'hedging', 'trades', 'cookie', 'underwear', 'carryout', 'cease', 'wreaks', 'singer', 'optimum', 'coins', 'judged', 'rebecca', 'jd', 'vaccination', 'infra', 'praising', 'lyon', 'embarrassment', 'jumping', 'wto', 'dubbed', 'engine', 'epic', 'tito', 'sara', 'continuously', 'consumerbehaviour', 'kitco', 'enduring', 'placement', 'sleeves', 'sofa', 'leonard', 'native', 'ravaged', 'chilled', 'hmoindia', 'emerges', 'bundles', 'elizabeth', 'govern', 'impression', 'upped', 'suppressed', 'trumpcrash', 'acid', 'sensanders', 'minofhealthug', 'institutional', 'freshdirect', 'flocking', 'macro', 'prudent', 'deforestation', 'repeats', 'sticky', 'oldest', 'height', 'crappy', 'exists', 'paramount', 'oap', 'lad', 'ont', 'washhand', 'hongkong', 'existential', 'timed', 'guild', 'ruling', 'ukrainian', 'physician', 'subside', 'draft', 'explosive', 'mitch', 'certification', 'emotions', 'drawings', 'profs', 'tutorial', 'drtedros', 'heal', 'cody', 'warrenton', 'liquids', 'invention', 'emirates', 'telecommunications', 'gianteagle', 'souls', 'flattened', 'southwestair', 'unknowingly', 'hillaryclinton', 'binmen', 'dwp', 'retreat', 'outer', 'deceptive', 'reg', 'marginal', 'dense', 'defined', 'scraps', 'pertaining', 'consolidation', 'sugary', 'flags', 'pooping', 'malaysians', 'destinations', 'bases', 'boats', 'recreation', 'indicated', 'attended', 'pac', 'introvert', 'accidentally', 'versova', 'dstv', 'exempted', 'logistic', 'bbcyourquestions', 'deodorant', 'citrus', 'incentives', 'printer', 'sharpest', 'crown', 'tobago', 'rupee', 'sonny', 'blogging', 'slumped', 'competent', 'lehman', 'foam', 'supportsmallbusiness', 'kings', 'bullion', 'bu', 'diaries', 'cincinnati', 'helpless', 'educators', 'amenities', 'payouts', 'unnoticed', 'character', 'shilla', 'johncornyn', 'waits', 'puerto', 'cfa', 'sealed', 'lynn', 'didiza', 'electrical', 'thecounter', 'proactively', 'agrisa', 'monopolies', 'thenewnormal', 'coordinating', 'quiz', 'gartner', 'strategist', 'ironically', 'slaps', 'indicators', 'pensioner', 'endangered', 'flushed', 'robbed', 'fighters', 'implies', 'healthcareworkers', 'desires', 'carries', 'swept', 'selfdistancing', 'proceed', 'coronaviruske', 'spite', 'itwire', 'falcone', 'sheriff', 'bcz', 'economical', 'mygovindia', 'katrina', 'highstreet', 'diverse', 'nonexistent', 'exploding', 'detected', 'ringing', 'scourge', 'tee', 'denatured', 'beekeeping', 'mixture', 'principle', 'stir', 'stretching', 'picky', 'epicenter', 'playgrounds', 'shook', 'greek', 'wings', 'waving', 'gro', 'consumerinsights', 'advisers', 'outrage', 'describe', 'complained', 'trumpliesamericansdie', 'ncdc', 'enfield', 'disappearing', 'bicycles', 'doorknobs', 'galway', 'expats', 'packers', 'converts', 'ftcscambingo', 'developers', 'qu', 'cycleways', 'eases', 'realty', 'retailweek', 'spacex', 'poland', 'accelerates', 'mandates', 'blueyonder', 'assaulted', 'stones', 'instruct', 'sykescottages', 'graphics', 'slight', 'cited', 'invading', 'remarks', 'sorts', 'fuelled', 'banging', 'accusations', 'complexity', 'baseline', 'extensions', 'thankyounhs', 'cpho', 'rogue', 'chrismurphyct', 'eater', 'halts', 'sophie', 'bearing', 'upsetting', 'perilofafrica', 'dishes', 'carona', 'chocolates', 'stan', 'anne', 'winco', 'bricks', 'flip', 'illustrates', 'nightclub', 'louise', 'sachs', 'compounding', 'remodels', 'niagara', 'civic', 'manipulating', 'mgvcl', 'compelling', 'policymakers', 'costume', 'makinde', 'booty', 'wheelchair', 'sustained', 'fasting', 'assuring', 'improvise', 'portland', 'interventions', 'educating', 'scrambled', 'labeling', 'harmed', 'emergesmarter', 'mitigating', 'volunteered', 'clarification', 'examine', 'firmly', 'hills', 'corrected', 'puzzles', 'protesting', 'boycottvodafone', 'asleep', 'await', 'hotlink', 'cult', 'breach', 'existed', 'hangs', 'togetherness', 'concentration', 'cautiously', 'lg', 'nut', 'stanley', 'publish', 'warranty', 'dynamics', 'script', 'widening', 'bridport', 'palmsunday', 'cougher', 'soy', 'lighter', 'recruited', 'superpower', 'conscience', 'ppv', 'jasoosshow', 'princess', 'ruby', 'militias', 'engines', 'exxonmobil', 'jenkins', 'distributions', 'theater', 'txsu', 'rahulgandhi', 'bajaj', 'gambia', 'wtop', 'historically', 'vacancies', 'touting', 'seasoning', 'devastation', 'external', 'canibrands', 'deb', 'tiger', 'comical', 'antimalarial', 'consultations', 'amwriting', 'clicking', 'allied', 'magecart', 'counterfeiters', 'stopit', 'downgraded', 'aca', 'iranians', 'responsive', 'uneasy', 'hq', 'claire', 'gentleman', 'spokesman', 'furiously', 'instability', 'disasters', 'morningsmaria', 'cellphone', 'highways', 'selfcare', 'myers', 'bullets', 'wawa', 'procedure', 'crafting', 'jefferson', 'itv']\n"
          ]
        }
      ]
    },
    {
      "cell_type": "code",
      "source": [
        "print(len(words))"
      ],
      "metadata": {
        "colab": {
          "base_uri": "https://localhost:8080/"
        },
        "id": "ShNxt4qfYuNk",
        "outputId": "ada7b977-ccf1-44b0-b195-21cf3e010aab"
      },
      "execution_count": null,
      "outputs": [
        {
          "output_type": "stream",
          "name": "stdout",
          "text": [
            "10630\n"
          ]
        }
      ]
    },
    {
      "cell_type": "markdown",
      "source": [
        "Finding the embedding of a given word can be useful when we’re trying to represent sentences as a collection of word embeddings, like when we’re trying to make a weight matrix for the embedding layer of a network."
      ],
      "metadata": {
        "id": "BM809WQbb3Qb"
      }
    },
    {
      "cell_type": "code",
      "source": [
        "print( w2v.wv['computer'] )"
      ],
      "metadata": {
        "colab": {
          "base_uri": "https://localhost:8080/"
        },
        "id": "hyHInX6agJO2",
        "outputId": "d4b5f493-61a7-439e-caaf-b054aeb9d791"
      },
      "execution_count": null,
      "outputs": [
        {
          "output_type": "stream",
          "name": "stdout",
          "text": [
            "[ 0.23159945 -0.18364176  0.14183891  0.09314279 -0.35462636 -0.08657879\n",
            " -0.07290865  0.2628004  -0.0463119  -0.16386954 -0.01490174 -0.08685535\n",
            "  0.14454587  0.10406194  0.21381761 -0.07882703  0.16532981 -0.26841873\n",
            "  0.05641954 -0.543638    0.32544297  0.03115011  0.12321577 -0.10372474\n",
            "  0.005913    0.22175255 -0.23617259  0.09690654  0.22735482  0.08703275\n",
            "  0.19393748  0.03843571 -0.10819363 -0.11022658  0.00583764 -0.19993101\n",
            " -0.29541948 -0.13309762 -0.00819728 -0.08706216 -0.37351355  0.05079323\n",
            "  0.04119847 -0.02772708 -0.15612394 -0.15639052 -0.17687808  0.10994948\n",
            " -0.1606558   0.2251356   0.16046125 -0.11558451 -0.15094745 -0.1581483\n",
            " -0.19140115 -0.06899387  0.0624784   0.04301355  0.11164516  0.13202554\n",
            " -0.22333479  0.31292397 -0.17123242  0.02903316 -0.42473325  0.29644543\n",
            "  0.2212194   0.4903908   0.05889883  0.2358805   0.1093836   0.03939575\n",
            "  0.22544415 -0.25327912 -0.01263572  0.0388947  -0.27391466  0.10163525\n",
            " -0.08740073  0.0451069  -0.13285542 -0.21722618 -0.23790357  0.47399703\n",
            "  0.30544126 -0.03534567  0.01955785  0.04921218  0.14036293  0.0592332\n",
            "  0.06686359  0.17854191  0.03645704  0.04610856  0.24783513  0.06955183\n",
            " -0.05359703 -0.0380832  -0.14170308 -0.22742121]\n"
          ]
        }
      ]
    },
    {
      "cell_type": "markdown",
      "source": [
        "We can also find out the similarity between given words (the cosine distance between their vectors)."
      ],
      "metadata": {
        "id": "AO2SKrUqcQiY"
      }
    },
    {
      "cell_type": "code",
      "source": [
        "w2v.wv.similarity('vladimir', 'putin')"
      ],
      "metadata": {
        "colab": {
          "base_uri": "https://localhost:8080/"
        },
        "id": "JEpYSU0UskQE",
        "outputId": "23fcd870-24fb-4d3a-9f9e-128f3a95efa4"
      },
      "execution_count": null,
      "outputs": [
        {
          "output_type": "execute_result",
          "data": {
            "text/plain": [
              "0.79823774"
            ]
          },
          "metadata": {},
          "execution_count": 17
        }
      ]
    },
    {
      "cell_type": "code",
      "source": [
        "w2v.wv.similarity('covid', 'virus')"
      ],
      "metadata": {
        "colab": {
          "base_uri": "https://localhost:8080/"
        },
        "id": "nmDQim-TswgY",
        "outputId": "c48e8a87-4399-4536-e2b6-ae5262bee436"
      },
      "execution_count": null,
      "outputs": [
        {
          "output_type": "execute_result",
          "data": {
            "text/plain": [
              "0.47756392"
            ]
          },
          "metadata": {},
          "execution_count": 20
        }
      ]
    },
    {
      "cell_type": "markdown",
      "source": [
        "With the gensim, we can also find the most similar words to a given word."
      ],
      "metadata": {
        "id": "k7DftVIvca5Q"
      }
    },
    {
      "cell_type": "code",
      "source": [
        "print(w2v.wv.most_similar('china'))"
      ],
      "metadata": {
        "colab": {
          "base_uri": "https://localhost:8080/"
        },
        "id": "MVNGUQbtf2ub",
        "outputId": "b65b811e-c4c3-451a-815c-bb3032154c3d"
      },
      "execution_count": null,
      "outputs": [
        {
          "output_type": "stream",
          "name": "stdout",
          "text": [
            "[('japan', 0.6670913100242615), ('iran', 0.624318540096283), ('africa', 0.6218641400337219), ('feb', 0.6196733117103577), ('broad', 0.6073569655418396), ('alberta', 0.5985935926437378), ('asia', 0.5940816402435303), ('deficit', 0.5914011001586914), ('chinese', 0.5898476243019104), ('developing', 0.5886146426200867)]\n"
          ]
        }
      ]
    },
    {
      "cell_type": "code",
      "source": [
        "print(w2v.wv.most_similar('covid'))"
      ],
      "metadata": {
        "colab": {
          "base_uri": "https://localhost:8080/"
        },
        "id": "g_gJak11cvSU",
        "outputId": "23e64bb4-8638-4f53-c9a5-d26489db6892"
      },
      "execution_count": null,
      "outputs": [
        {
          "output_type": "stream",
          "name": "stdout",
          "text": [
            "[('coronavirus', 0.5433706641197205), ('corona', 0.522556722164154), ('virus', 0.47756388783454895), ('convid', 0.45719149708747864), ('coronaoutbreak', 0.4487345814704895), ('stayathomeorder', 0.4484182298183441), ('stayhomestaysafe', 0.4454982876777649), ('covidbc', 0.44467100501060486), ('coronavirusindia', 0.4370630979537964), ('flattenthecurve', 0.43696171045303345)]\n"
          ]
        }
      ]
    },
    {
      "cell_type": "code",
      "source": [
        "print(w2v.wv.most_similar('india'))"
      ],
      "metadata": {
        "colab": {
          "base_uri": "https://localhost:8080/"
        },
        "id": "RbX2SQUMcxQ6",
        "outputId": "d942ea1d-faf9-4fca-d6dc-b218d311f5b2"
      },
      "execution_count": null,
      "outputs": [
        {
          "output_type": "stream",
          "name": "stdout",
          "text": [
            "[('nigeria', 0.791071355342865), ('pakistan', 0.7620376944541931), ('drharshvardhan', 0.7053236365318298), ('amitshah', 0.6774893999099731), ('kenya', 0.6740648746490479), ('narendramodi', 0.6672999858856201), ('pmoindia', 0.6583511233329773), ('hindustan', 0.6577422618865967), ('finminindia', 0.6574849486351013), ('iran', 0.6541985869407654)]\n"
          ]
        }
      ]
    },
    {
      "cell_type": "markdown",
      "source": [
        "Similarly, we can use the same function to find analogies of the form: if x:y, then z:?. Here we enter the known relation x,y in the positive parameter, and the term who’s analogy has to be found in the negative parameter."
      ],
      "metadata": {
        "id": "GB4pamDxcfiZ"
      }
    },
    {
      "cell_type": "code",
      "source": [
        "print(w2v.wv.most_similar(positive=['russian', 'russia'], negative=['indian']))"
      ],
      "metadata": {
        "colab": {
          "base_uri": "https://localhost:8080/"
        },
        "id": "hF7gMd3mpwls",
        "outputId": "e94088c0-84df-4c7d-8c17-555877389855"
      },
      "execution_count": null,
      "outputs": [
        {
          "output_type": "stream",
          "name": "stdout",
          "text": [
            "[('saudi', 0.7510861158370972), ('putin', 0.7209022045135498), ('arabia', 0.708686351776123), ('donald', 0.7067505717277527), ('opec', 0.67552250623703), ('war', 0.666634738445282), ('saudis', 0.6621584892272949), ('trump', 0.6568707227706909), ('gop', 0.6483803391456604), ('mbs', 0.640464723110199)]\n"
          ]
        }
      ]
    },
    {
      "cell_type": "markdown",
      "source": [
        "We also have this method which works similar to an \"odd one out\" situation."
      ],
      "metadata": {
        "id": "oTQSJlPmiQ8E"
      }
    },
    {
      "cell_type": "code",
      "source": [
        "w2v.wv.doesnt_match(['grocery', 'covid', 'coronavirus'])\n"
      ],
      "metadata": {
        "id": "hlOpVQ1wV2hp",
        "colab": {
          "base_uri": "https://localhost:8080/",
          "height": 35
        },
        "outputId": "e0637837-902a-474e-be68-3860638cab28"
      },
      "execution_count": null,
      "outputs": [
        {
          "output_type": "execute_result",
          "data": {
            "text/plain": [
              "'grocery'"
            ],
            "application/vnd.google.colaboratory.intrinsic+json": {
              "type": "string"
            }
          },
          "metadata": {},
          "execution_count": 28
        }
      ]
    },
    {
      "cell_type": "markdown",
      "source": [
        "## Visualising word vectors"
      ],
      "metadata": {
        "id": "uAI1BtondhOM"
      }
    },
    {
      "cell_type": "markdown",
      "source": [
        "Word2Vec word embedding can usually be of sizes 100 or 300, and it is practically not possible to visualise a 300 or 100 dimensional space with meaningful outputs. I used this [snippet](http://web.stanford.edu/class/cs224n/materials/Gensim%20word%20vector%20visualization.html) from [Stanford’s 224n course site](http://web.stanford.edu/class/cs224n/index.html#schedule), which basically provides you the option of either using a list of words, or providing the number of random samples you want to be displayed. In either case, it uses PCA to reduce the dimensionality and represent the word through their vectors on a 2-dimensional plane. The actual values of the axis are not of concern as they do not hold any significance, rather we can use it to perceive similar vectors to be densely located with respect to each other.\n"
      ],
      "metadata": {
        "id": "ah3KK1ABc8YZ"
      }
    },
    {
      "cell_type": "code",
      "source": [
        "from sklearn.decomposition import PCA\n",
        "from sklearn.manifold import TSNE\n",
        "\n",
        "def display_pca_scatterplot(model, words=None, sample=0):\n",
        "    if words == None:\n",
        "        if sample > 0:\n",
        "            words = np.random.choice(list(model.vocab.keys()), sample)\n",
        "        else:\n",
        "            words = [ word for word in model.vocab ]\n",
        "\n",
        "    word_vectors = np.array([model[w] for w in words])\n",
        "\n",
        "    twodim = PCA().fit_transform(word_vectors)[:,:2]\n",
        "\n",
        "    plt.figure(figsize=(6,6))\n",
        "    plt.scatter(twodim[:,0], twodim[:,1], edgecolors='k', c='r')\n",
        "    for word, (x,y) in zip(words, twodim):\n",
        "        plt.text(x+0.05, y+0.05, word)"
      ],
      "metadata": {
        "id": "0QLtf1sXVBdK"
      },
      "execution_count": null,
      "outputs": []
    },
    {
      "cell_type": "code",
      "source": [
        "display_pca_scatterplot(w2v,['coronavirus', 'covid', 'virus', 'corona','disease', 'saudiarabia',  'doctor', 'hospital', 'pakistan', 'kenya',\n",
        "                             'pay', 'paying', 'paid', 'wages', 'raise', 'bills', 'rent', 'charge']  )"
      ],
      "metadata": {
        "colab": {
          "base_uri": "https://localhost:8080/",
          "height": 329
        },
        "id": "-chXmtjNVNbz",
        "outputId": "9534237d-95d2-4e76-978d-0bfad709a8da"
      },
      "execution_count": null,
      "outputs": [
        {
          "output_type": "error",
          "ename": "TypeError",
          "evalue": "'Word2Vec' object is not subscriptable",
          "traceback": [
            "\u001b[0;31m---------------------------------------------------------------------------\u001b[0m",
            "\u001b[0;31mTypeError\u001b[0m                                 Traceback (most recent call last)",
            "\u001b[0;32m<ipython-input-30-78e36302b00e>\u001b[0m in \u001b[0;36m<cell line: 1>\u001b[0;34m()\u001b[0m\n\u001b[0;32m----> 1\u001b[0;31m display_pca_scatterplot(w2v,['coronavirus', 'covid', 'virus', 'corona','disease', 'saudiarabia',  'doctor', 'hospital', 'pakistan', 'kenya',\n\u001b[0m\u001b[1;32m      2\u001b[0m                              'pay', 'paying', 'paid', 'wages', 'raise', 'bills', 'rent', 'charge']  )\n",
            "\u001b[0;32m<ipython-input-29-af40112af357>\u001b[0m in \u001b[0;36mdisplay_pca_scatterplot\u001b[0;34m(model, words, sample)\u001b[0m\n\u001b[1;32m      9\u001b[0m             \u001b[0mwords\u001b[0m \u001b[0;34m=\u001b[0m \u001b[0;34m[\u001b[0m \u001b[0mword\u001b[0m \u001b[0;32mfor\u001b[0m \u001b[0mword\u001b[0m \u001b[0;32min\u001b[0m \u001b[0mmodel\u001b[0m\u001b[0;34m.\u001b[0m\u001b[0mvocab\u001b[0m \u001b[0;34m]\u001b[0m\u001b[0;34m\u001b[0m\u001b[0;34m\u001b[0m\u001b[0m\n\u001b[1;32m     10\u001b[0m \u001b[0;34m\u001b[0m\u001b[0m\n\u001b[0;32m---> 11\u001b[0;31m     \u001b[0mword_vectors\u001b[0m \u001b[0;34m=\u001b[0m \u001b[0mnp\u001b[0m\u001b[0;34m.\u001b[0m\u001b[0marray\u001b[0m\u001b[0;34m(\u001b[0m\u001b[0;34m[\u001b[0m\u001b[0mmodel\u001b[0m\u001b[0;34m[\u001b[0m\u001b[0mw\u001b[0m\u001b[0;34m]\u001b[0m \u001b[0;32mfor\u001b[0m \u001b[0mw\u001b[0m \u001b[0;32min\u001b[0m \u001b[0mwords\u001b[0m\u001b[0;34m]\u001b[0m\u001b[0;34m)\u001b[0m\u001b[0;34m\u001b[0m\u001b[0;34m\u001b[0m\u001b[0m\n\u001b[0m\u001b[1;32m     12\u001b[0m \u001b[0;34m\u001b[0m\u001b[0m\n\u001b[1;32m     13\u001b[0m     \u001b[0mtwodim\u001b[0m \u001b[0;34m=\u001b[0m \u001b[0mPCA\u001b[0m\u001b[0;34m(\u001b[0m\u001b[0;34m)\u001b[0m\u001b[0;34m.\u001b[0m\u001b[0mfit_transform\u001b[0m\u001b[0;34m(\u001b[0m\u001b[0mword_vectors\u001b[0m\u001b[0;34m)\u001b[0m\u001b[0;34m[\u001b[0m\u001b[0;34m:\u001b[0m\u001b[0;34m,\u001b[0m\u001b[0;34m:\u001b[0m\u001b[0;36m2\u001b[0m\u001b[0;34m]\u001b[0m\u001b[0;34m\u001b[0m\u001b[0;34m\u001b[0m\u001b[0m\n",
            "\u001b[0;32m<ipython-input-29-af40112af357>\u001b[0m in \u001b[0;36m<listcomp>\u001b[0;34m(.0)\u001b[0m\n\u001b[1;32m      9\u001b[0m             \u001b[0mwords\u001b[0m \u001b[0;34m=\u001b[0m \u001b[0;34m[\u001b[0m \u001b[0mword\u001b[0m \u001b[0;32mfor\u001b[0m \u001b[0mword\u001b[0m \u001b[0;32min\u001b[0m \u001b[0mmodel\u001b[0m\u001b[0;34m.\u001b[0m\u001b[0mvocab\u001b[0m \u001b[0;34m]\u001b[0m\u001b[0;34m\u001b[0m\u001b[0;34m\u001b[0m\u001b[0m\n\u001b[1;32m     10\u001b[0m \u001b[0;34m\u001b[0m\u001b[0m\n\u001b[0;32m---> 11\u001b[0;31m     \u001b[0mword_vectors\u001b[0m \u001b[0;34m=\u001b[0m \u001b[0mnp\u001b[0m\u001b[0;34m.\u001b[0m\u001b[0marray\u001b[0m\u001b[0;34m(\u001b[0m\u001b[0;34m[\u001b[0m\u001b[0mmodel\u001b[0m\u001b[0;34m[\u001b[0m\u001b[0mw\u001b[0m\u001b[0;34m]\u001b[0m \u001b[0;32mfor\u001b[0m \u001b[0mw\u001b[0m \u001b[0;32min\u001b[0m \u001b[0mwords\u001b[0m\u001b[0;34m]\u001b[0m\u001b[0;34m)\u001b[0m\u001b[0;34m\u001b[0m\u001b[0;34m\u001b[0m\u001b[0m\n\u001b[0m\u001b[1;32m     12\u001b[0m \u001b[0;34m\u001b[0m\u001b[0m\n\u001b[1;32m     13\u001b[0m     \u001b[0mtwodim\u001b[0m \u001b[0;34m=\u001b[0m \u001b[0mPCA\u001b[0m\u001b[0;34m(\u001b[0m\u001b[0;34m)\u001b[0m\u001b[0;34m.\u001b[0m\u001b[0mfit_transform\u001b[0m\u001b[0;34m(\u001b[0m\u001b[0mword_vectors\u001b[0m\u001b[0;34m)\u001b[0m\u001b[0;34m[\u001b[0m\u001b[0;34m:\u001b[0m\u001b[0;34m,\u001b[0m\u001b[0;34m:\u001b[0m\u001b[0;36m2\u001b[0m\u001b[0;34m]\u001b[0m\u001b[0;34m\u001b[0m\u001b[0;34m\u001b[0m\u001b[0m\n",
            "\u001b[0;31mTypeError\u001b[0m: 'Word2Vec' object is not subscriptable"
          ]
        }
      ]
    },
    {
      "cell_type": "markdown",
      "source": [
        "## Exporting pre trained embeddings + Saving/Loading our model"
      ],
      "metadata": {
        "id": "nI3E1N_BcrHp"
      }
    },
    {
      "cell_type": "markdown",
      "source": [
        "Gensim comes with several already pre-trained models, in the Gensim-data repository. We can import the downloader from the gensim library. We can use the following method to print the list of pre-trained models trained on large datasets available to us. This also  includes models like GloVe and fastext other than word2vec.\n",
        "\n"
      ],
      "metadata": {
        "id": "LeFWtrS_jh99"
      }
    },
    {
      "cell_type": "code",
      "source": [
        "import gensim.downloader\n",
        "print(list(gensim.downloader.info()['models'].keys()))\n"
      ],
      "metadata": {
        "id": "jeQ6sNXdnjgZ",
        "colab": {
          "base_uri": "https://localhost:8080/"
        },
        "outputId": "f44457d1-db7d-4a0b-a27a-479651193d58"
      },
      "execution_count": null,
      "outputs": [
        {
          "output_type": "stream",
          "name": "stdout",
          "text": [
            "['fasttext-wiki-news-subwords-300', 'conceptnet-numberbatch-17-06-300', 'word2vec-ruscorpora-300', 'word2vec-google-news-300', 'glove-wiki-gigaword-50', 'glove-wiki-gigaword-100', 'glove-wiki-gigaword-200', 'glove-wiki-gigaword-300', 'glove-twitter-25', 'glove-twitter-50', 'glove-twitter-100', 'glove-twitter-200', '__testing_word2vec-matrix-synopsis']\n"
          ]
        }
      ]
    },
    {
      "cell_type": "markdown",
      "source": [
        "Here we have used  'word2vec-google-news-300' (trained on google-news, size is 300), and found words similar to ‘twitter’."
      ],
      "metadata": {
        "id": "8a10LjhUjmYl"
      }
    },
    {
      "cell_type": "code",
      "source": [
        "google_news = gensim.downloader.load('word2vec-google-news-300')\n",
        "google_news.most_similar('twitter')"
      ],
      "metadata": {
        "id": "7kjdQXzgdzQs",
        "colab": {
          "base_uri": "https://localhost:8080/"
        },
        "outputId": "d129a82c-3f63-48df-ae6d-d80766c97323"
      },
      "execution_count": null,
      "outputs": [
        {
          "output_type": "stream",
          "name": "stdout",
          "text": [
            "[==================================================] 100.0% 1662.8/1662.8MB downloaded\n"
          ]
        },
        {
          "output_type": "execute_result",
          "data": {
            "text/plain": [
              "[('Twitter', 0.89089035987854),\n",
              " ('Twitter.com', 0.7536780834197998),\n",
              " ('tweet', 0.7431625723838806),\n",
              " ('tweeting', 0.7161933183670044),\n",
              " ('tweeted', 0.7137226462364197),\n",
              " ('facebook', 0.6988551616668701),\n",
              " ('tweets', 0.6974530816078186),\n",
              " ('Tweeted', 0.6950210928916931),\n",
              " ('Tweet', 0.6875007152557373),\n",
              " ('Tweeting', 0.6845167279243469)]"
            ]
          },
          "metadata": {},
          "execution_count": 3
        }
      ]
    },
    {
      "cell_type": "markdown",
      "source": [
        "We can save our existing models and load them again.\n"
      ],
      "metadata": {
        "id": "d-l6c2JHjqBl"
      }
    },
    {
      "cell_type": "code",
      "source": [
        "w2v.save(\"word2vec.model\")"
      ],
      "metadata": {
        "id": "QJ5YKbhssWip"
      },
      "execution_count": null,
      "outputs": []
    },
    {
      "cell_type": "code",
      "source": [
        "model = Word2Vec.load(\"word2vec.model\")\n",
        "model.train([[\"hello\", \"world\"]], total_examples=1, epochs=1)\n"
      ],
      "metadata": {
        "id": "o6O0oa3DeR2Q",
        "colab": {
          "base_uri": "https://localhost:8080/"
        },
        "outputId": "89b104c1-6516-48bd-dc79-8e3eed838b7d"
      },
      "execution_count": null,
      "outputs": [
        {
          "output_type": "execute_result",
          "data": {
            "text/plain": [
              "(2, 2)"
            ]
          },
          "metadata": {},
          "execution_count": 10
        }
      ]
    }
  ]
}